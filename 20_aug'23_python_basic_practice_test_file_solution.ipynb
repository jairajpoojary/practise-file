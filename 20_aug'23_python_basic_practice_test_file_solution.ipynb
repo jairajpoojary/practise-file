{
 "cells": [
  {
   "cell_type": "code",
   "execution_count": 11,
   "id": "e8e42c65-831b-4479-b9e5-4458dc7a1e36",
   "metadata": {},
   "outputs": [
    {
     "name": "stdout",
     "output_type": "stream",
     "text": [
      "!SLLIKS,WP\n"
     ]
    }
   ],
   "source": [
    "#1. Write a program to reverse a string.\n",
    "def reverse_string(input_string):\n",
    "# Define a function called reverse_string that takes an input_string as its parameter.\n",
    "\n",
    "    reversed_string = \"\"\n",
    "#Initialize an empty string called reversed_string to store the reversed characters.\n",
    "\n",
    "    for char in input_string:\n",
    "# Step 3: Start a loop that iterates through each character in the input_string.\n",
    "\n",
    "        reversed_string = char + reversed_string\n",
    "# Concatenate the current character with the existing reversed_string.\n",
    "      \n",
    "\n",
    "    return reversed_string\n",
    "# After the loop is done, return the reversed_string as the output of the function.\n",
    "\n",
    "input_str = \"PW,SKILLS!\"\n",
    "reversed_str = reverse_string(input_str)\n",
    "print(reversed_str)"
   ]
  },
  {
   "cell_type": "code",
   "execution_count": 15,
   "id": "2582ffd4-6945-40fc-af06-7d7436981e17",
   "metadata": {},
   "outputs": [
    {
     "name": "stdout",
     "output_type": "stream",
     "text": [
      "True\n",
      "False\n"
     ]
    }
   ],
   "source": [
    "#2. Check if a string is a palindrome.\n",
    "def is_palindrome(s):\n",
    "# Convert the string to lowercase to ensure case-insensitive comparison\n",
    "    s = s.lower()\n",
    "\n",
    "# Remove spaces and punctuation from the string\n",
    "    s = ''.join(e for e in s if e.isalnum())\n",
    "\n",
    " #Compare the original string with its reverse\n",
    "    return s == s[::-1]\n",
    "\n",
    "print(is_palindrome(\"radar\"))\n",
    "print(is_palindrome(\"hello\"))"
   ]
  },
  {
   "cell_type": "code",
   "execution_count": 16,
   "id": "a4b7a35a-e99d-4951-a028-0b3b1e38e335",
   "metadata": {},
   "outputs": [
    {
     "name": "stdin",
     "output_type": "stream",
     "text": [
      "Enter a string:  hello\n"
     ]
    },
    {
     "name": "stdout",
     "output_type": "stream",
     "text": [
      "Uppercase string: HELLO\n"
     ]
    }
   ],
   "source": [
    "#3. Convert a string to uppercase.\n",
    "# Get input from the user\n",
    "input_string = input(\"Enter a string: \")\n",
    "\n",
    "# Convert the string to uppercase\n",
    "uppercase_string = input_string.upper()\n",
    "\n",
    "# Print the uppercase string\n",
    "print(\"Uppercase string:\", uppercase_string)"
   ]
  },
  {
   "cell_type": "code",
   "execution_count": 17,
   "id": "0387e9c5-62f7-462f-89cb-7da8badb6122",
   "metadata": {},
   "outputs": [
    {
     "name": "stdin",
     "output_type": "stream",
     "text": [
      "Enter a string:  ABCDEF\n"
     ]
    },
    {
     "name": "stdout",
     "output_type": "stream",
     "text": [
      "lowercase string: abcdef\n"
     ]
    }
   ],
   "source": [
    "#4. Convert a string to lowercase.\n",
    "# Get input from the user\n",
    "input_string = input(\"Enter a string: \")\n",
    "\n",
    "# Convert the string to uppercase\n",
    "lowercase_string = input_string.lower()\n",
    "\n",
    "# Print the uppercase string\n",
    "print(\"lowercase string:\", lowercase_string)"
   ]
  },
  {
   "cell_type": "code",
   "execution_count": 21,
   "id": "00fd8aa9-ce87-4081-9900-7a1f0c79921b",
   "metadata": {},
   "outputs": [
    {
     "name": "stdout",
     "output_type": "stream",
     "text": [
      "Number of vowels: 6\n"
     ]
    }
   ],
   "source": [
    "#5.Count the number of vowels in a string.\n",
    "def count_vowels(string):\n",
    "# Initialize a variable to keep track of the vowel count\n",
    "    vowel_count = 0\n",
    "# Convert the input string to lowercase to handle both upper and lowercase vowels\n",
    "    string = string.lower()\n",
    "\n",
    "#Define a set of vowels\n",
    "    vowels = set(\"aeiou\")\n",
    "\n",
    "#Iterate through each character in the string\n",
    "    for char in string:\n",
    "        if char in vowels:\n",
    "            vowel_count += 1\n",
    "\n",
    "#Return the final vowel count\n",
    "    return vowel_count\n",
    "\n",
    "input_string = \"Hello,I AM JAI\"\n",
    "result = count_vowels(input_string)\n",
    "print(\"Number of vowels:\", result)"
   ]
  },
  {
   "cell_type": "code",
   "execution_count": 22,
   "id": "bd1b9f7a-4700-4c88-afb0-7c43b49db609",
   "metadata": {},
   "outputs": [
    {
     "name": "stdin",
     "output_type": "stream",
     "text": [
      "Enter a string:  HEY? ARE YOU THERE\n"
     ]
    },
    {
     "name": "stdout",
     "output_type": "stream",
     "text": [
      "Number of consonants: 7\n"
     ]
    }
   ],
   "source": [
    "#6.Count the number of consonants in a string.\n",
    "def count_consonants(string):\n",
    " # Initialize a variable to keep track of the count of consonants\n",
    "    consonant_count = 0\n",
    " # Define a set of consonant characters\n",
    "    consonants = \"bcdfghjklmnpqrstvwxyzBCDFGHJKLMNPQRSTVWXYZ\"\n",
    "\n",
    "#Iterate through each character in the input string\n",
    "    for char in string:\n",
    "        if char in consonants:\n",
    "            consonant_count += 1\n",
    "    return consonant_count\n",
    "\n",
    "# Input string\n",
    "input_string = input(\"Enter a string: \")\n",
    "result = count_consonants(input_string)\n",
    "print(\"Number of consonants:\", result)"
   ]
  },
  {
   "cell_type": "code",
   "execution_count": 25,
   "id": "204f679c-c078-488f-97b5-f0bbf629cb42",
   "metadata": {},
   "outputs": [
    {
     "name": "stdout",
     "output_type": "stream",
     "text": [
      "HelloMYNAMEISJAI\n"
     ]
    }
   ],
   "source": [
    "#7.Remove all whitespaces from a string.\n",
    "def remove_whitespace(input_string):\n",
    "    \n",
    "#Initialize an empty string to store the result.\n",
    "    result = \"\"\n",
    "\n",
    " # Step 2: Iterate through each character in the input string.\n",
    "    for char in input_string:\n",
    "        if char != \" \":\n",
    "            result += char\n",
    "    return result\n",
    "\n",
    "# Example:\n",
    "input_string = \"Hello MY NAME  IS JAI\"\n",
    "output_string = remove_whitespace(input_string)\n",
    "print(output_string)"
   ]
  },
  {
   "cell_type": "code",
   "execution_count": 28,
   "id": "8a9743c5-c9c1-4db3-b6b6-d68de13806d3",
   "metadata": {},
   "outputs": [
    {
     "name": "stdout",
     "output_type": "stream",
     "text": [
      "The length of the string is: 21\n"
     ]
    }
   ],
   "source": [
    "#8.Find the length of a string without using the `len()` function.\n",
    "#Initialize a variable to keep track of the count\n",
    "count = 0\n",
    "\n",
    "#Iterate through each character in the string\n",
    "for char in input_string:  \n",
    "    count += 1\n",
    "\n",
    "# Print the final count, which represents the length of the string\n",
    "print(\"The length of the string is:\", count)"
   ]
  },
  {
   "cell_type": "code",
   "execution_count": 29,
   "id": "421e2750-dabe-46fa-9246-22afea39ebee",
   "metadata": {},
   "outputs": [
    {
     "name": "stdin",
     "output_type": "stream",
     "text": [
      "Enter a string:  my name is jai\n",
      "Enter the specific word to check for:  name\n"
     ]
    },
    {
     "name": "stdout",
     "output_type": "stream",
     "text": [
      "The string contains the word 'name'.\n"
     ]
    }
   ],
   "source": [
    "#9.Check if a string contains a specific word.\n",
    "#Input the string and the specific word\n",
    "input_string = input(\"Enter a string: \")\n",
    "specific_word = input(\"Enter the specific word to check for: \")\n",
    "\n",
    "#Check if the specific word is present in the string using the 'in' keyword\n",
    "if specific_word in input_string:\n",
    "    print(f\"The string contains the word '{specific_word}'.\")\n",
    "else:  \n",
    "    print(f\"The string does not contain the word '{specific_word}'.\")"
   ]
  },
  {
   "cell_type": "code",
   "execution_count": 32,
   "id": "713fda13-b8fc-42d4-8691-230ab06dd030",
   "metadata": {},
   "outputs": [
    {
     "name": "stdin",
     "output_type": "stream",
     "text": [
      "Enter a sentence:  hey today is my birthday\n",
      "Enter the word to be replaced:  my\n",
      "Enter the new word:  your\n"
     ]
    },
    {
     "name": "stdout",
     "output_type": "stream",
     "text": [
      "Modified string: hey today is your birthday\n"
     ]
    }
   ],
   "source": [
    "#10.Replace a word in a string with another word.\n",
    "#get the input string\n",
    "input_string = input(\"Enter a sentence: \")\n",
    "\n",
    "# the old word and the new word\n",
    "old_word = input(\"Enter the word to be replaced: \")\n",
    "new_word = input(\"Enter the new word: \")\n",
    "\n",
    "#Replace the old word with the new word using string.replace() method\n",
    "modified_string = input_string.replace(old_word, new_word)\n",
    "print(\"Modified string:\", modified_string)"
   ]
  },
  {
   "cell_type": "code",
   "execution_count": 34,
   "id": "e60a20e8-089a-4baa-8757-84a3ef564d30",
   "metadata": {},
   "outputs": [
    {
     "name": "stdout",
     "output_type": "stream",
     "text": [
      "The word 'is' appears 3 times in the input string.\n"
     ]
    }
   ],
   "source": [
    "#11. Count the occurrences of a word in a string.\n",
    "def count_word_occurrences(input_string, target_word):\n",
    "    # Initialize a variable to keep track of the word count\n",
    "    word_count = 0\n",
    "\n",
    "    #Split the input string into a list of words\n",
    "    words = input_string.split()\n",
    "\n",
    "    # Iterate through each word in the list\n",
    "    for word in words:\n",
    "        if word == target_word:\n",
    "            # Step 5: Increment the word count if the words match\n",
    "            word_count += 1\n",
    "\n",
    "    # Step 6: Return the final word count\n",
    "    return word_count\n",
    "\n",
    "# Input string\n",
    "input_string = \"my name is jai,he is from bangalore, jai is very talented.\"\n",
    "\n",
    "# Target word to count\n",
    "target_word = \"is\"\n",
    "\n",
    "# Call the function and print the result\n",
    "result = count_word_occurrences(input_string, target_word)\n",
    "print(f\"The word '{target_word}' appears {result} times in the input string.\")"
   ]
  },
  {
   "cell_type": "code",
   "execution_count": 1,
   "id": "05bb1a62-ee0b-4c79-ac1d-904d3ed24987",
   "metadata": {},
   "outputs": [
    {
     "name": "stdout",
     "output_type": "stream",
     "text": [
      "Index of the first occurrence: 11\n"
     ]
    }
   ],
   "source": [
    "#12. Find the first occurrence of a word in a string.\n",
    "def find_first_occurrence(text, word):\n",
    "    # Step 1: Find the index of the first occurrence of the word in the text.\n",
    "    index = text.find(word)\n",
    "\n",
    "    # Step 2: Check if the index is -1, indicating that the word was not found.\n",
    "    if index == -1:\n",
    "        return None  # Return None if the word is not found.\n",
    "\n",
    "    # Step 3: Return the index of the first occurrence of the word.\n",
    "    return index\n",
    "\n",
    "# Example usage\n",
    "text = \"This is an example sentence. This sentence contains the word example.\"\n",
    "word = \"example\"\n",
    "result = find_first_occurrence(text, word)\n",
    "print(\"Index of the first occurrence:\", result)"
   ]
  },
  {
   "cell_type": "code",
   "execution_count": 2,
   "id": "ec9084ef-4983-4bf6-b15c-cb5ac54b94c5",
   "metadata": {},
   "outputs": [
    {
     "name": "stdout",
     "output_type": "stream",
     "text": [
      "Index of the last occurrence: 66\n"
     ]
    }
   ],
   "source": [
    "#13 Find the last occurrence of a word in a string.\n",
    "def find_last_occurrence(text, word):\n",
    "    # Step 1: Find the index of the last occurrence of the word in the text.\n",
    "    index = text.rfind(word)\n",
    "\n",
    "    # Step 2: Check if the index is -1, indicating that the word was not found.\n",
    "    if index == -1:\n",
    "        return None  # Return None if the word is not found.\n",
    "\n",
    "    # Step 3: Return the index of the last occurrence of the word.\n",
    "    return index\n",
    "\n",
    "# Example usage\n",
    "text = \"This is an example sentence. This sentence also contains the word example.\"\n",
    "word = \"example\"\n",
    "result = find_last_occurrence(text, word)\n",
    "print(\"Index of the last occurrence:\", result)"
   ]
  },
  {
   "cell_type": "code",
   "execution_count": 3,
   "id": "886b05ca-09b3-43e4-88e8-bf8cda566967",
   "metadata": {},
   "outputs": [
    {
     "name": "stdout",
     "output_type": "stream",
     "text": [
      "List of words: ['This', 'is', 'an', 'example', 'sentence.']\n"
     ]
    }
   ],
   "source": [
    "#14. Split a string into a list of words.\n",
    "def split_string_into_words(text):\n",
    "    # Step 1: Use the split() method to split the text into a list of words.\n",
    "    words_list = text.split()\n",
    "\n",
    "    # Step 2: Return the list of words.\n",
    "    return words_list\n",
    "\n",
    "# Example usage\n",
    "text = \"This is an example sentence.\"\n",
    "words = split_string_into_words(text)\n",
    "print(\"List of words:\", words)"
   ]
  },
  {
   "cell_type": "code",
   "execution_count": 4,
   "id": "8de27387-4c9b-4f69-b9fc-f0f5536ce088",
   "metadata": {},
   "outputs": [
    {
     "name": "stdout",
     "output_type": "stream",
     "text": [
      "Joined string: This is an example sentence.\n"
     ]
    }
   ],
   "source": [
    "#15. Join a list of words into a string.\n",
    "def join_words_into_string(words_list):\n",
    "    # Step 1: Use the join() method to join the words in the list into a single string.\n",
    "    joined_string = ' '.join(words_list)\n",
    "\n",
    "    # Step 2: Return the joined string.\n",
    "    return joined_string\n",
    "\n",
    "# Example usage\n",
    "words = [\"This\", \"is\", \"an\", \"example\", \"sentence.\"]\n",
    "text = join_words_into_string(words)\n",
    "print(\"Joined string:\", text)"
   ]
  },
  {
   "cell_type": "code",
   "execution_count": 5,
   "id": "3309a21e-ac53-4b06-8385-e7e182c2e816",
   "metadata": {},
   "outputs": [
    {
     "name": "stdout",
     "output_type": "stream",
     "text": [
      "Converted text: This_is_an_example_sentence.\n"
     ]
    }
   ],
   "source": [
    "#16. Convert a string where words are separated by spaces to one where words\n",
    "#are separated by underscores.\n",
    "def convert_to_underscore_separated(text):\n",
    "    # Step 1: Use the replace() method to replace spaces with underscores.\n",
    "    underscore_separated = text.replace(\" \", \"_\")\n",
    "\n",
    "    # Step 2: Return the converted string.\n",
    "    return underscore_separated\n",
    "\n",
    "# Example usage\n",
    "text = \"This is an example sentence.\"\n",
    "converted_text = convert_to_underscore_separated(text)\n",
    "print(\"Converted text:\", converted_text)"
   ]
  },
  {
   "cell_type": "code",
   "execution_count": 6,
   "id": "745de0ed-a053-4b87-ae9b-ae8dc030c212",
   "metadata": {},
   "outputs": [
    {
     "name": "stdout",
     "output_type": "stream",
     "text": [
      "The text starts with the prefix.\n"
     ]
    }
   ],
   "source": [
    "#17. Check if a string starts with a specific word or phrase.\n",
    "def starts_with(text, prefix):\n",
    "    # Step 1: Use the startswith() method to check if the text starts with the specified prefix.\n",
    "    is_start = text.startswith(prefix)\n",
    "\n",
    "    # Step 2: Return the result of the check.\n",
    "    return is_start\n",
    "\n",
    "# Example usage\n",
    "text = \"Hello, world!\"\n",
    "prefix = \"Hello\"\n",
    "result = starts_with(text, prefix)\n",
    "if result:\n",
    "    print(\"The text starts with the prefix.\")\n",
    "else:\n",
    "    print(\"The text does not start with the prefix.\")"
   ]
  },
  {
   "cell_type": "code",
   "execution_count": 7,
   "id": "456caba3-9896-4c86-bff6-cda96ee45c4e",
   "metadata": {},
   "outputs": [
    {
     "name": "stdout",
     "output_type": "stream",
     "text": [
      "The text ends with the suffix.\n"
     ]
    }
   ],
   "source": [
    "#18. Check if a string ends with a specific word or phrase.\n",
    "def ends_with(text, suffix):\n",
    "    # Step 1: Use the endswith() method to check if the text ends with the specified suffix.\n",
    "    is_end = text.endswith(suffix)\n",
    "\n",
    "    # Step 2: Return the result of the check.\n",
    "    return is_end\n",
    "\n",
    "# Example usage\n",
    "text = \"Hello, world!\"\n",
    "suffix = \"world!\"\n",
    "result = ends_with(text, suffix)\n",
    "if result:\n",
    "    print(\"The text ends with the suffix.\")\n",
    "else:\n",
    "    print(\"The text does not end with the suffix.\")"
   ]
  },
  {
   "cell_type": "code",
   "execution_count": 8,
   "id": "86638537-7a16-41cc-91d6-2b5b4e91e7e8",
   "metadata": {},
   "outputs": [
    {
     "name": "stdout",
     "output_type": "stream",
     "text": [
      "Title case: Hello World\n"
     ]
    }
   ],
   "source": [
    "#19. Convert a string to title case (e.g., \"hello world\" to \"Hello World\").\n",
    "def convert_to_title_case(text):\n",
    "    # Step 1: Use the title() method to convert the text to title case.\n",
    "    title_case_text = text.title()\n",
    "\n",
    "    # Step 2: Return the converted text.\n",
    "    return title_case_text\n",
    "\n",
    "# Example usage\n",
    "text = \"hello world\"\n",
    "title_case_result = convert_to_title_case(text)\n",
    "print(\"Title case:\", title_case_result)"
   ]
  },
  {
   "cell_type": "code",
   "execution_count": 9,
   "id": "8c27bdf7-4833-413c-b1a9-4fd58c5cb541",
   "metadata": {},
   "outputs": [
    {
     "name": "stdout",
     "output_type": "stream",
     "text": [
      "Longest word: sentence\n"
     ]
    }
   ],
   "source": [
    "#20. Find the longest word in a string.\n",
    "def find_longest_word(text):\n",
    "    # Step 1: Use the split() method to split the text into a list of words.\n",
    "    words = text.split()\n",
    "\n",
    "    # Step 2: Initialize variables to keep track of the longest word and its length.\n",
    "    longest_word = \"\"\n",
    "    max_length = 0\n",
    "\n",
    "    # Step 3: Iterate through the list of words.\n",
    "    for word in words:\n",
    "        # Check if the length of the current word is greater than the current max_length.\n",
    "        if len(word) > max_length:\n",
    "            max_length = len(word)\n",
    "            longest_word = word\n",
    "\n",
    "    # Step 4: Return the longest word.\n",
    "    return longest_word\n",
    "\n",
    "# Example usage\n",
    "text = \"This is an example sentence with some long words.\"\n",
    "longest_word = find_longest_word(text)\n",
    "print(\"Longest word:\", longest_word)\n"
   ]
  },
  {
   "cell_type": "code",
   "execution_count": 10,
   "id": "be73fa81-a427-4df3-9293-570e436c39ba",
   "metadata": {},
   "outputs": [
    {
     "name": "stdout",
     "output_type": "stream",
     "text": [
      "Shortest word: is\n"
     ]
    }
   ],
   "source": [
    "#21. Find the shortest word in a string.\n",
    "def find_shortest_word(text):\n",
    "    # Step 1: Use the split() method to split the text into a list of words.\n",
    "    words = text.split()\n",
    "\n",
    "    # Step 2: Initialize variables to keep track of the shortest word and its length.\n",
    "    shortest_word = None\n",
    "    min_length = float('inf')  # Initialize to a large value\n",
    "\n",
    "    # Step 3: Iterate through the list of words.\n",
    "    for word in words:\n",
    "        # Check if the length of the current word is smaller than the current min_length.\n",
    "        if len(word) < min_length:\n",
    "            min_length = len(word)\n",
    "            shortest_word = word\n",
    "\n",
    "    # Step 4: Return the shortest word.\n",
    "    return shortest_word\n",
    "\n",
    "# Example usage\n",
    "text = \"This is an example sentence with some short words.\"\n",
    "shortest_word = find_shortest_word(text)\n",
    "print(\"Shortest word:\", shortest_word)"
   ]
  },
  {
   "cell_type": "code",
   "execution_count": 11,
   "id": "b3f6e9e0-d108-405e-be54-e9d04080994e",
   "metadata": {},
   "outputs": [
    {
     "name": "stdout",
     "output_type": "stream",
     "text": [
      "Shortest word: is\n"
     ]
    }
   ],
   "source": [
    "#22. Reverse the order of words in a string.\n",
    "def find_shortest_word(text):\n",
    "    # Step 1: Use the split() method to split the text into a list of words.\n",
    "    words = text.split()\n",
    "\n",
    "    # Step 2: Initialize variables to keep track of the shortest word and its length.\n",
    "    shortest_word = None\n",
    "    min_length = float('inf')  # Initialize to a large value\n",
    "\n",
    "    # Step 3: Iterate through the list of words.\n",
    "    for word in words:\n",
    "        # Check if the length of the current word is smaller than the current min_length.\n",
    "        if len(word) < min_length:\n",
    "            min_length = len(word)\n",
    "            shortest_word = word\n",
    "\n",
    "    # Step 4: Return the shortest word.\n",
    "    return shortest_word\n",
    "\n",
    "# Example usage\n",
    "text = \"This is an example sentence with some short words.\"\n",
    "shortest_word = find_shortest_word(text)\n",
    "print(\"Shortest word:\", shortest_word)"
   ]
  },
  {
   "cell_type": "code",
   "execution_count": 12,
   "id": "13f4aaa7-70fe-4791-bcbb-0bb33e77e9d3",
   "metadata": {},
   "outputs": [
    {
     "name": "stdout",
     "output_type": "stream",
     "text": [
      "The string is alphanumeric.\n"
     ]
    }
   ],
   "source": [
    "#23. Check if a string is alphanumeric.\n",
    "def is_alphanumeric(text):\n",
    "    # Step 1: Use the isalnum() method to check if the string is alphanumeric.\n",
    "    return text.isalnum()\n",
    "\n",
    "# Example usage\n",
    "text = \"Hello123\"\n",
    "result = is_alphanumeric(text)\n",
    "if result:\n",
    "    print(\"The string is alphanumeric.\")\n",
    "else:\n",
    "    print(\"The string is not alphanumeric.\")"
   ]
  },
  {
   "cell_type": "code",
   "execution_count": 13,
   "id": "4e52af6a-0762-4d37-8e48-1e42482cd81d",
   "metadata": {},
   "outputs": [
    {
     "name": "stdout",
     "output_type": "stream",
     "text": [
      "Extracted digits: 123456\n"
     ]
    }
   ],
   "source": [
    "#24. Extract all digits from a string.\n",
    "def extract_digits(text):\n",
    "    # Step 1: Initialize an empty string to store the extracted digits.\n",
    "    digits = \"\"\n",
    "\n",
    "    # Step 2: Iterate through each character in the text.\n",
    "    for char in text:\n",
    "        # Check if the character is a digit using the isdigit() method.\n",
    "        if char.isdigit():\n",
    "            # Append the digit to the digits string.\n",
    "            digits += char\n",
    "\n",
    "    # Step 3: Return the extracted digits.\n",
    "    return digits\n",
    "\n",
    "# Example usage\n",
    "text = \"Hello123World456\"\n",
    "extracted_digits = extract_digits(text)\n",
    "print(\"Extracted digits:\", extracted_digits)"
   ]
  },
  {
   "cell_type": "code",
   "execution_count": 14,
   "id": "a58a6ca9-833c-44b6-9735-ccac87a40e93",
   "metadata": {},
   "outputs": [
    {
     "name": "stdout",
     "output_type": "stream",
     "text": [
      "H e l l o W o r l d\n"
     ]
    }
   ],
   "source": [
    "#### 25. Extract all alphabets from a string.\n",
    "def extract_alphabets(input_string):\n",
    "    alphabets = ' '.join([char for char in input_string if char.isalpha()])\n",
    "    return alphabets\n",
    "\n",
    "# Example input string\n",
    "input_string = \"Hello123World456\"\n",
    "result = extract_alphabets(input_string)\n",
    "print(result)"
   ]
  },
  {
   "cell_type": "code",
   "execution_count": 16,
   "id": "140673f0-ab2f-4ea5-800f-f61005f1b9c2",
   "metadata": {},
   "outputs": [
    {
     "name": "stdout",
     "output_type": "stream",
     "text": [
      "4\n"
     ]
    }
   ],
   "source": [
    "#26. Count the number of uppercase letters in a string.\n",
    "def count_uppercase(input_string):\n",
    "    uppercase_count = sum(1 for char in input_string if char.isupper())\n",
    "    return uppercase_count\n",
    "\n",
    "# Example input string\n",
    "input_string = \"HelloJAI\"\n",
    "result = count_uppercase(input_string)\n",
    "print(result)"
   ]
  },
  {
   "cell_type": "code",
   "execution_count": 17,
   "id": "825197d4-15ac-42da-af9e-aa59dde031d8",
   "metadata": {},
   "outputs": [
    {
     "name": "stdout",
     "output_type": "stream",
     "text": [
      "4\n"
     ]
    }
   ],
   "source": [
    "#27. Count the number of lowercase letters in a string.\n",
    "def count_lowercase(input_string):\n",
    "    lowercase_count = sum(1 for char in input_string if char.islower())\n",
    "    return lowercase_count\n",
    "\n",
    "# Example input string\n",
    "input_string = \"HelloWORLD\"\n",
    "result = count_lowercase(input_string)\n",
    "print(result)"
   ]
  },
  {
   "cell_type": "code",
   "execution_count": 18,
   "id": "b253c6c0-500d-491c-81c1-080c0e8bc33c",
   "metadata": {},
   "outputs": [
    {
     "name": "stdout",
     "output_type": "stream",
     "text": [
      "hELLOworld\n"
     ]
    }
   ],
   "source": [
    "#28. Swap the case of each character in a string.\n",
    "def swap_case(input_string):\n",
    "    swapped_string = input_string.swapcase()\n",
    "    return swapped_string\n",
    "\n",
    "# Example input string\n",
    "input_string = \"HelloWORLD\"\n",
    "result = swap_case(input_string)\n",
    "print(result)"
   ]
  },
  {
   "cell_type": "code",
   "execution_count": 19,
   "id": "56436359-f951-4ec4-abd9-11621b8a8285",
   "metadata": {},
   "outputs": [
    {
     "name": "stdout",
     "output_type": "stream",
     "text": [
      "Hello world, welcome to the of programming.\n"
     ]
    }
   ],
   "source": [
    "#29. Remove a specific word from a string.\n",
    "def remove_word(input_string, word_to_remove):\n",
    "    words = input_string.split()  # Split the input string into a list of words\n",
    "    filtered_words = [word for word in words if word != word_to_remove]  # Create a new list excluding the word to remove\n",
    "    modified_string = ' '.join(filtered_words)  # Join the filtered words back into a string\n",
    "    return modified_string\n",
    "\n",
    "# Example input string and word to remove\n",
    "input_string = \"Hello world, welcome to the world of programming.\"\n",
    "word_to_remove = \"world\"\n",
    "result = remove_word(input_string, word_to_remove)\n",
    "print(result)"
   ]
  },
  {
   "cell_type": "code",
   "execution_count": 20,
   "id": "cc62d346-d157-48cf-b695-5da89d4bfebb",
   "metadata": {},
   "outputs": [
    {
     "name": "stdout",
     "output_type": "stream",
     "text": [
      "True\n",
      "False\n"
     ]
    }
   ],
   "source": [
    "#30. Check if a string is a valid email address.\n",
    "import re  # Import the regular expression module\n",
    "\n",
    "def is_valid_email(email):\n",
    "    pattern = r'^[\\w\\.-]+@[\\w\\.-]+\\.\\w+$'  # Regular expression pattern for a basic email validation\n",
    "    if re.match(pattern, email):\n",
    "        return True\n",
    "    else:\n",
    "        return False\n",
    "\n",
    "# Example email addresses\n",
    "email1 = \"example@email.com\"\n",
    "email2 = \"invalid-email\"\n",
    "result1 = is_valid_email(email1)\n",
    "result2 = is_valid_email(email2)\n",
    "print(result1)\n",
    "print(result2)"
   ]
  },
  {
   "cell_type": "code",
   "execution_count": 21,
   "id": "f3fb0f92-0b65-40d9-99c6-f7c53ace7ed9",
   "metadata": {},
   "outputs": [
    {
     "name": "stdout",
     "output_type": "stream",
     "text": [
      "example\n"
     ]
    }
   ],
   "source": [
    "#31. Extract the username from an email address string.\n",
    "def extract_username(email):\n",
    "    username = email.split('@')[0]  # Split the email address at \"@\" and take the first part\n",
    "    return username\n",
    "\n",
    "# Example email address\n",
    "email = \"example@email.com\"\n",
    "result = extract_username(email)\n",
    "print(result)"
   ]
  },
  {
   "cell_type": "code",
   "execution_count": 22,
   "id": "279cbec3-c37f-4ccb-b5e6-b353e47f0d04",
   "metadata": {},
   "outputs": [
    {
     "name": "stdout",
     "output_type": "stream",
     "text": [
      "email.com\n"
     ]
    }
   ],
   "source": [
    "#32. Extract the domain name from an email address string.\n",
    "def extract_domain(email):\n",
    "    domain = email.split('@')[1]  # Split the email address at \"@\" and take the second part\n",
    "    return domain\n",
    "\n",
    "# Example email address\n",
    "email = \"example@email.com\"\n",
    "result = extract_domain(email)\n",
    "print(result)"
   ]
  },
  {
   "cell_type": "code",
   "execution_count": 23,
   "id": "1cbd589e-3c71-4a31-be12-881d5fcec0e3",
   "metadata": {},
   "outputs": [
    {
     "name": "stdout",
     "output_type": "stream",
     "text": [
      "Hello world! How are you?\n"
     ]
    }
   ],
   "source": [
    "###33. Replace multiple spaces in a string with a single space.\n",
    "def replace_multiple_spaces(input_string):\n",
    "    cleaned_string = ' '.join(input_string.split())  # Split the string at spaces and then join using a single space\n",
    "    return cleaned_string\n",
    "\n",
    "# Example input string with multiple spaces\n",
    "input_string = \"Hello     world!   How   are   you?\"\n",
    "result = replace_multiple_spaces(input_string)\n",
    "print(result)"
   ]
  },
  {
   "cell_type": "code",
   "execution_count": 24,
   "id": "3da8b0de-ffd6-4a6c-ae42-c478660d4fbe",
   "metadata": {},
   "outputs": [
    {
     "name": "stdout",
     "output_type": "stream",
     "text": [
      "True\n",
      "False\n"
     ]
    }
   ],
   "source": [
    "#34. Check if a string is a valid URL.\n",
    "from urllib.parse import urlparse\n",
    "\n",
    "def is_valid_url(url):\n",
    "    try:\n",
    "        result = urlparse(url)\n",
    "        return all([result.scheme, result.netloc])  # Check if both scheme and netloc are present\n",
    "    except ValueError:\n",
    "        return False\n",
    "\n",
    "# Example URLs\n",
    "url1 = \"https://www.example.com\"\n",
    "url2 = \"invalid-url\"\n",
    "result1 = is_valid_url(url1)\n",
    "result2 = is_valid_url(url2)\n",
    "print(result1)  # Should print True\n",
    "print(result2)  # Should print False"
   ]
  },
  {
   "cell_type": "code",
   "execution_count": 25,
   "id": "ffbdbfdf-5c9f-4637-87b0-59e70549267a",
   "metadata": {},
   "outputs": [
    {
     "name": "stdout",
     "output_type": "stream",
     "text": [
      "Protocol 1: https\n",
      "Protocol 2: http\n",
      "Protocol 3: ftp\n"
     ]
    }
   ],
   "source": [
    "#35. Extract the protocol (http or https) from a URL string.\n",
    "def extract_protocol(url):\n",
    "    # Find the index of the first occurrence of \"://\"\n",
    "    protocol_end = url.find(\"://\")\n",
    "\n",
    "    if protocol_end != -1:\n",
    "        # Extract the protocol from the URL\n",
    "        protocol = url[:protocol_end]\n",
    "        return protocol\n",
    "    else:\n",
    "        return None\n",
    "\n",
    "# Example URL strings\n",
    "url1 = \"https://www.example.com\"\n",
    "url2 = \"http://google.com\"\n",
    "url3 = \"ftp://ftp.example.com\"\n",
    "\n",
    "# Extract protocols\n",
    "protocol1 = extract_protocol(url1)\n",
    "protocol2 = extract_protocol(url2)\n",
    "protocol3 = extract_protocol(url3)\n",
    "\n",
    "# Print extracted protocols\n",
    "print(\"Protocol 1:\", protocol1)\n",
    "print(\"Protocol 2:\", protocol2)\n",
    "print(\"Protocol 3:\", protocol3)"
   ]
  },
  {
   "cell_type": "code",
   "execution_count": 26,
   "id": "355ed515-e046-4b02-86ee-7501ca90bbf1",
   "metadata": {},
   "outputs": [
    {
     "name": "stdout",
     "output_type": "stream",
     "text": [
      "Character: 'h', Frequency: 1\n",
      "Character: 'e', Frequency: 1\n",
      "Character: 'l', Frequency: 3\n",
      "Character: 'o', Frequency: 2\n",
      "Character: ' ', Frequency: 1\n",
      "Character: 'w', Frequency: 1\n",
      "Character: 'r', Frequency: 1\n",
      "Character: 'd', Frequency: 1\n"
     ]
    }
   ],
   "source": [
    "#36. Find the frequency of each character in a string.\n",
    "def character_frequency(input_string):\n",
    "    frequency = {}  # Create an empty dictionary to store character frequencies\n",
    "\n",
    "    for char in input_string:\n",
    "        if char in frequency:\n",
    "            frequency[char] += 1  # Increment the frequency count if the character is already in the dictionary\n",
    "        else:\n",
    "            frequency[char] = 1   # Initialize the frequency count to 1 if the character is not in the dictionary\n",
    "\n",
    "    return frequency\n",
    "\n",
    "# Example string\n",
    "input_str = \"hello world\"\n",
    "\n",
    "# Calculate character frequencies\n",
    "char_freq = character_frequency(input_str)\n",
    "\n",
    "# Print character frequencies\n",
    "for char, freq in char_freq.items():\n",
    "    print(f\"Character: '{char}', Frequency: {freq}\")"
   ]
  },
  {
   "cell_type": "code",
   "execution_count": 27,
   "id": "9ad740fe-392f-49a9-96ad-aeff0c4d2d99",
   "metadata": {},
   "outputs": [
    {
     "name": "stdout",
     "output_type": "stream",
     "text": [
      "Original string: Hello, world! How's it going?\n",
      "Cleaned string: Hello world Hows it going\n"
     ]
    }
   ],
   "source": [
    "#37. Remove all punctuation from a string.\n",
    "import string\n",
    "\n",
    "def remove_punctuation(input_string):\n",
    "    # Create a translation table to remove punctuation\n",
    "    translator = str.maketrans(\"\", \"\", string.punctuation)\n",
    "\n",
    "    # Use the translation table to remove punctuation from the input string\n",
    "    clean_string = input_string.translate(translator)\n",
    "\n",
    "    return clean_string\n",
    "\n",
    "# Example string with punctuation\n",
    "input_str = \"Hello, world! How's it going?\"\n",
    "\n",
    "# Remove punctuation\n",
    "cleaned_str = remove_punctuation(input_str)\n",
    "\n",
    "# Print the cleaned string\n",
    "print(\"Original string:\", input_str)\n",
    "print(\"Cleaned string:\", cleaned_str)"
   ]
  },
  {
   "cell_type": "code",
   "execution_count": 28,
   "id": "2b821a1e-ab6b-449b-bd3c-fb0198189519",
   "metadata": {},
   "outputs": [
    {
     "name": "stdout",
     "output_type": "stream",
     "text": [
      "'12345' contains only digits: True\n",
      "'Hello123' contains only digits: False\n",
      "'456.789' contains only digits: False\n"
     ]
    }
   ],
   "source": [
    "##38. Check if a string contains only digits.\n",
    "def contains_only_digits(input_string):\n",
    "    # Check if all characters in the string are digits\n",
    "    return input_string.isdigit()\n",
    "\n",
    "# Example strings\n",
    "string1 = \"12345\"\n",
    "string2 = \"Hello123\"\n",
    "string3 = \"456.789\"\n",
    "\n",
    "# Check if strings contain only digits\n",
    "result1 = contains_only_digits(string1)\n",
    "result2 = contains_only_digits(string2)\n",
    "result3 = contains_only_digits(string3)\n",
    "\n",
    "# Print the results\n",
    "print(f\"'{string1}' contains only digits:\", result1)\n",
    "print(f\"'{string2}' contains only digits:\", result2)\n",
    "print(f\"'{string3}' contains only digits:\", result3)"
   ]
  },
  {
   "cell_type": "code",
   "execution_count": 29,
   "id": "7926c309-5da7-448b-9713-59b083e4c3f1",
   "metadata": {},
   "outputs": [
    {
     "name": "stdout",
     "output_type": "stream",
     "text": [
      "'Hello' contains only alphabets: True\n",
      "'Hello123' contains only alphabets: False\n",
      "'12345' contains only alphabets: False\n"
     ]
    }
   ],
   "source": [
    "##39. Check if a string contains only alphabets.\n",
    "def contains_only_alphabets(input_string):\n",
    "    # Check if all characters in the string are alphabetic\n",
    "    return input_string.isalpha()\n",
    "\n",
    "# Example strings\n",
    "string1 = \"Hello\"\n",
    "string2 = \"Hello123\"\n",
    "string3 = \"12345\"\n",
    "\n",
    "# Check if strings contain only alphabets\n",
    "result1 = contains_only_alphabets(string1)\n",
    "result2 = contains_only_alphabets(string2)\n",
    "result3 = contains_only_alphabets(string3)\n",
    "\n",
    "# Print the results\n",
    "print(f\"'{string1}' contains only alphabets:\", result1)\n",
    "print(f\"'{string2}' contains only alphabets:\", result2)\n",
    "print(f\"'{string3}' contains only alphabets:\", result3)"
   ]
  },
  {
   "cell_type": "code",
   "execution_count": 30,
   "id": "3b28e353-362f-4ab6-8dea-4158e2f8b2cc",
   "metadata": {},
   "outputs": [
    {
     "name": "stdout",
     "output_type": "stream",
     "text": [
      "Original string: Hello, world!\n",
      "List of characters: ['H', 'e', 'l', 'l', 'o', ',', ' ', 'w', 'o', 'r', 'l', 'd', '!']\n"
     ]
    }
   ],
   "source": [
    "#40. Convert a string to a list of characters.\n",
    "def string_to_list(input_string):\n",
    "    # Use list() constructor to convert the string to a list of characters\n",
    "    char_list = list(input_string)\n",
    "    return char_list\n",
    "\n",
    "# Example string\n",
    "input_str = \"Hello, world!\"\n",
    "\n",
    "# Convert the string to a list of characters\n",
    "char_list = string_to_list(input_str)\n",
    "\n",
    "# Print the list of characters\n",
    "print(\"Original string:\", input_str)\n",
    "print(\"List of characters:\", char_list)"
   ]
  },
  {
   "cell_type": "code",
   "execution_count": 31,
   "id": "ccbd8b83-1646-4020-a732-4e72f82ebb44",
   "metadata": {},
   "outputs": [
    {
     "name": "stdout",
     "output_type": "stream",
     "text": [
      "'listen' and 'silent' are anagrams: True\n",
      "'hello' and 'world' are anagrams: False\n"
     ]
    }
   ],
   "source": [
    "#41. Check if two strings are anagrams.\n",
    "def are_anagrams(str1, str2):\n",
    "    # Remove spaces and convert strings to lowercase for accurate comparison\n",
    "    str1 = str1.replace(\" \", \"\").lower()\n",
    "    str2 = str2.replace(\" \", \"\").lower()\n",
    "\n",
    "    # Sort the characters in both strings and compare\n",
    "    return sorted(str1) == sorted(str2)\n",
    "\n",
    "# Example strings\n",
    "string1 = \"listen\"\n",
    "string2 = \"silent\"\n",
    "string3 = \"hello\"\n",
    "string4 = \"world\"\n",
    "\n",
    "# Check if strings are anagrams\n",
    "result1 = are_anagrams(string1, string2)\n",
    "result2 = are_anagrams(string3, string4)\n",
    "\n",
    "# Print the results\n",
    "print(f\"'{string1}' and '{string2}' are anagrams:\", result1)\n",
    "print(f\"'{string3}' and '{string4}' are anagrams:\", result2)"
   ]
  },
  {
   "cell_type": "code",
   "execution_count": 32,
   "id": "d7720d1e-a663-4a3f-8406-6bbfdcdf7da0",
   "metadata": {},
   "outputs": [
    {
     "name": "stdout",
     "output_type": "stream",
     "text": [
      "Encoded text: ehoor, zruog!\n"
     ]
    }
   ],
   "source": [
    "#42. Encode a string using a Caesar cipher.\n",
    "# Define a function named caesar_cipher that encodes a string using a Caesar cipher.\n",
    "def caesar_cipher(text, shift):\n",
    "  \"\"\"\n",
    "  Encodes a string using a Caesar cipher.\n",
    "\n",
    "  Args:\n",
    "    text: The string to encode.\n",
    "    shift: The number of positions to shift each letter.\n",
    "\n",
    "  Returns:\n",
    "    The encoded string.\n",
    "  \"\"\"\n",
    "\n",
    "  # Initialize an empty string to store the encoded text.\n",
    "  encoded_text = \"\"\n",
    "\n",
    "  # Iterate through each character in the input text.\n",
    "  for char in text:\n",
    "    # Check if the character is alphabetic.\n",
    "    if char.isalpha():\n",
    "      # Calculate the encoded character's Unicode code point value by shifting it by the specified amount.\n",
    "      # Ensure the value wraps around within the lowercase alphabet range (a-z).\n",
    "      encoded_char = chr((ord(char) + shift - ord('a')) % 26 + ord('a'))\n",
    "    else:\n",
    "      # Keep non-alphabetic characters unchanged.\n",
    "      encoded_char = char\n",
    "\n",
    "    # Add the encoded character to the encoded text.\n",
    "    encoded_text += encoded_char\n",
    "\n",
    "  # Return the resulting encoded text.\n",
    "  return encoded_text\n",
    "\n",
    "# Define the input text and the shift value for encoding.\n",
    "text = \"Hello, world!\"\n",
    "shift = 3\n",
    "\n",
    "# Call the caesar_cipher function to encode the text using the specified shift.\n",
    "encoded_text = caesar_cipher(text, shift)\n",
    "\n",
    "# Print the encoded text.\n",
    "print(\"Encoded text:\", encoded_text)"
   ]
  },
  {
   "cell_type": "code",
   "execution_count": 33,
   "id": "76c83b11-404e-4d6c-8b95-f74f4a99f6d7",
   "metadata": {},
   "outputs": [
    {
     "name": "stdout",
     "output_type": "stream",
     "text": [
      "Decoded text: ilmm, world!\n"
     ]
    }
   ],
   "source": [
    "#43. Decode a Caesar cipher encoded string.\n",
    "# Define a function to decode a string using a Caesar cipher\n",
    "def caesar_cipher_decoder(text, shift):\n",
    "    \"\"\"\n",
    "    Decodes a string using a Caesar cipher.\n",
    "\n",
    "    Args:\n",
    "        text: The string to decode.\n",
    "        shift: The number of positions to shift each letter.\n",
    "\n",
    "    Returns:\n",
    "        The decoded string.\n",
    "    \"\"\"\n",
    "\n",
    "    # Initialize an empty string to store the decoded text\n",
    "    decoded_text = \"\"\n",
    "\n",
    "    # Loop through each character in the input text\n",
    "    for char in text:\n",
    "        # Check if the character is an alphabetic character\n",
    "        if char.isalpha():\n",
    "            # Calculate the decoded character using the shift value\n",
    "            decoded_char = chr((ord(char) - shift - ord('a')) % 26 + ord('a'))\n",
    "        else:\n",
    "            # If the character is not alphabetic, keep it unchanged\n",
    "            decoded_char = char\n",
    "\n",
    "        # Add the decoded character to the decoded text\n",
    "        decoded_text += decoded_char\n",
    "\n",
    "    # Return the fully decoded text\n",
    "    return decoded_text\n",
    "\n",
    "# Example input\n",
    "text = \"lopp, zruog!\"\n",
    "shift = 3\n",
    "\n",
    "# Call the caesar_cipher_decoder function to decode the input text\n",
    "decoded_text = caesar_cipher_decoder(text, shift)\n",
    "\n",
    "# Print the decoded text\n",
    "print(\"Decoded text:\", decoded_text)"
   ]
  },
  {
   "cell_type": "code",
   "execution_count": 35,
   "id": "cc535823-ea66-4cce-8f08-2ef0b1e50a96",
   "metadata": {},
   "outputs": [
    {
     "name": "stdout",
     "output_type": "stream",
     "text": [
      "Most frequent word: hello\n"
     ]
    }
   ],
   "source": [
    "##44. Find the most frequent word in a string.\n",
    "import re\n",
    "from collections import Counter\n",
    "\n",
    "def most_frequent_word(input_string):\n",
    "    # Remove punctuation and convert to lowercase\n",
    "    clean_string = re.sub(r'[^\\w\\s]', '', input_string).lower()\n",
    "\n",
    "    # Split the string into words\n",
    "    words = clean_string.split()\n",
    "\n",
    "    # Use Counter to count word frequencies\n",
    "    word_counter = Counter(words)\n",
    "\n",
    "    # Find the most common word\n",
    "    most_common_word = word_counter.most_common(1)[0][0]\n",
    "       \n",
    "    return most_common_word\n",
    "\n",
    "# Example string\n",
    "input_str = \"Hello world, hello there! How's the world?\"\n",
    "\n",
    "# Find the most frequent word\n",
    "most_common = most_frequent_word(input_str)\n",
    "\n",
    "# Print the result\n",
    "print(\"Most frequent word:\", most_common)"
   ]
  },
  {
   "cell_type": "code",
   "execution_count": 36,
   "id": "48bd8c30-3587-428b-a730-c21e2d092856",
   "metadata": {},
   "outputs": [
    {
     "name": "stdout",
     "output_type": "stream",
     "text": [
      "Unique words: {'world', 'hows', 'hello', 'there', 'the'}\n"
     ]
    }
   ],
   "source": [
    "#45. Find all unique words in a string.\n",
    "import re\n",
    "\n",
    "def unique_words(input_string):\n",
    "    # Remove punctuation and convert to lowercase\n",
    "    clean_string = re.sub(r'[^\\w\\s]', '', input_string).lower()\n",
    "\n",
    "    # Split the string into words and convert to a set for uniqueness\n",
    "    words = set(clean_string.split())\n",
    "\n",
    "    return words\n",
    "\n",
    "# Example string\n",
    "input_str = \"Hello world, hello there! How's the world?\"\n",
    "\n",
    "# Find unique words\n",
    "unique_word_set = unique_words(input_str)\n",
    "\n",
    "# Print the result\n",
    "print(\"Unique words:\", unique_word_set)"
   ]
  },
  {
   "cell_type": "code",
   "execution_count": 37,
   "id": "2cb426c6-1e86-40a5-8075-cbfe6a65a1dc",
   "metadata": {},
   "outputs": [
    {
     "name": "stdout",
     "output_type": "stream",
     "text": [
      "'hello' has 2 syllables.\n",
      "'banana' has 3 syllables.\n",
      "'syllable' has 3 syllables.\n"
     ]
    }
   ],
   "source": [
    "#46. Count the number of syllables in a string.\n",
    "import re\n",
    "\n",
    "def count_syllables(word):\n",
    "    # Count vowel groups using regular expression\n",
    "    vowel_groups = re.findall(r'[aeiouy]+', word, re.IGNORECASE)\n",
    "\n",
    "    return len(vowel_groups)\n",
    "\n",
    "# Example words\n",
    "word1 = \"hello\"\n",
    "word2 = \"banana\"\n",
    "word3 = \"syllable\"\n",
    "\n",
    "# Count syllables\n",
    "syllables1 = count_syllables(word1)\n",
    "syllables2 = count_syllables(word2)\n",
    "syllables3 = count_syllables(word3)\n",
    "\n",
    "# Print the results\n",
    "print(f\"'{word1}' has {syllables1} syllables.\")\n",
    "print(f\"'{word2}' has {syllables2} syllables.\")\n",
    "print(f\"'{word3}' has {syllables3} syllables.\")"
   ]
  },
  {
   "cell_type": "code",
   "execution_count": 38,
   "id": "2f6ad53b-3671-4357-b0f7-a91c0051f001",
   "metadata": {},
   "outputs": [
    {
     "name": "stdout",
     "output_type": "stream",
     "text": [
      "'Hello, world!' contains special characters: True\n",
      "'This is a test.' contains special characters: True\n",
      "'Special@Characters' contains special characters: True\n"
     ]
    }
   ],
   "source": [
    "#47. Check if a string contains any special characters.\n",
    "import re\n",
    "\n",
    "def contains_special_characters(input_string):\n",
    "    # Define a regular expression pattern to match special characters\n",
    "    pattern = re.compile(r'[!@#$%^&*()_+{}\\[\\]:;<>,.?~\\\\/]')\n",
    "\n",
    "    # Use the search() method to find a match\n",
    "    match = pattern.search(input_string)\n",
    "\n",
    "    # Return True if a match is found, False otherwise\n",
    "    return bool(match)\n",
    "\n",
    "# Example strings\n",
    "string1 = \"Hello, world!\"\n",
    "string2 = \"This is a test.\"\n",
    "string3 = \"Special@Characters\"\n",
    "\n",
    "# Check if strings contain special characters\n",
    "result1 = contains_special_characters(string1)\n",
    "result2 = contains_special_characters(string2)\n",
    "result3 = contains_special_characters(string3)\n",
    "\n",
    "# Print the results\n",
    "print(f\"'{string1}' contains special characters:\", result1)\n",
    "print(f\"'{string2}' contains special characters:\", result2)\n",
    "print(f\"'{string3}' contains special characters:\", result3)"
   ]
  },
  {
   "cell_type": "code",
   "execution_count": 61,
   "id": "bb50dd98-f5fc-44fd-9d6d-2a071261f98d",
   "metadata": {},
   "outputs": [
    {
     "name": "stdout",
     "output_type": "stream",
     "text": [
      "Hello, I jai\n"
     ]
    }
   ],
   "source": [
    "#48. Remove the nth word from a string.\n",
    "def remove_nth_word(string, n):\n",
    "    words = string.split()\n",
    "    if n > len(words):\n",
    "        return \"The string doesn't have that many words\"\n",
    "    else:\n",
    "        del words[n-1]\n",
    "        return ' '.join(words)\n",
    "print(remove_nth_word(\"Hello, I am jai\", 3))  # Output: \"Hello, am an jai\n",
    "    "
   ]
  },
  {
   "cell_type": "code",
   "execution_count": 63,
   "id": "5dca430b-819c-45e1-9b8d-014b17b87fa4",
   "metadata": {},
   "outputs": [
    {
     "name": "stdout",
     "output_type": "stream",
     "text": [
      "Hello, am I ant\n"
     ]
    }
   ],
   "source": [
    "#49. Insert a word at the nth position in a string.\n",
    "def insert_nth_word(string, word, n):\n",
    "    words = string.split()\n",
    "    if n > len(words) + 1:\n",
    "        return \"The string doesn't have that many words\"\n",
    "    else:\n",
    "        words.insert(n-1, word)\n",
    "        return ' '.join(words)\n",
    "print(insert_nth_word(\"Hello, am ant\", \"I\", 3))  # Output: \"Hello, I am ant\n"
   ]
  },
  {
   "cell_type": "code",
   "execution_count": 64,
   "id": "6bee91b0-93f1-47e4-964a-d9870b8a7524",
   "metadata": {},
   "outputs": [
    {
     "name": "stdout",
     "output_type": "stream",
     "text": [
      "['Name', ' Age', ' Country']\n",
      "['John', ' 25', ' USA']\n",
      "['Alice', ' 30', ' Canada']\n",
      "['Bob', ' 22', ' UK']\n"
     ]
    }
   ],
   "source": [
    "#50. Convert a CSV string to a list of lists.\n",
    "def csv_string_to_list(csv_string):\n",
    "    # Split the CSV string into lines\n",
    "    lines = csv_string.split('\\n')\n",
    "\n",
    "    # Initialize an empty list to store the result\n",
    "    result = []\n",
    "\n",
    "    for line in lines:\n",
    "        # Split each line into fields using comma as the delimiter\n",
    "        fields = line.split(',')\n",
    "\n",
    "        # Append the fields to the result list as a row\n",
    "        result.append(fields)\n",
    "\n",
    "    return result\n",
    "\n",
    "# Example CSV string\n",
    "csv_data = \"Name, Age, Country\\nJohn, 25, USA\\nAlice, 30, Canada\\nBob, 22, UK\"\n",
    "\n",
    "# Convert CSV string to a list of lists\n",
    "list_of_lists = csv_string_to_list(csv_data)\n",
    "\n",
    "# Print the result\n",
    "for row in list_of_lists:\n",
    "    print(row)"
   ]
  },
  {
   "cell_type": "code",
   "execution_count": 1,
   "id": "4f96af53-d315-4e1e-bf82-537e56cb83e4",
   "metadata": {},
   "outputs": [
    {
     "name": "stdout",
     "output_type": "stream",
     "text": [
      "[1, 2, 3, 4, 5, 6, 7, 8, 9, 10]\n"
     ]
    }
   ],
   "source": [
    "#List based practice problem :\n",
    "#1. Create a list with integers from 1 to 10.\n",
    "\n",
    "# Use a list comprehension to create a list of integers from 1 to 10\n",
    "integer_list = [i for i in range(1, 11)]\n",
    "\n",
    "# Print the list\n",
    "print(integer_list)\n",
    "\n"
   ]
  },
  {
   "cell_type": "code",
   "execution_count": 2,
   "id": "d10b7f68-7c0b-47ff-acdc-9f8296d9dfae",
   "metadata": {},
   "outputs": [
    {
     "name": "stdout",
     "output_type": "stream",
     "text": [
      "Length of the list: 5\n"
     ]
    }
   ],
   "source": [
    "#2. Find the length of a list without using the len() function.\n",
    "def custom_len(input_list):\n",
    "    count = 0\n",
    "    for _ in input_list:\n",
    "        count += 1\n",
    "    return count\n",
    "\n",
    "# Example list\n",
    "my_list = [10, 20, 30, 40, 50]\n",
    "\n",
    "# Find the length of the list using the custom_len function\n",
    "length = custom_len(my_list)\n",
    "\n",
    "# Print the length of the list\n",
    "print(\"Length of the list:\", length)"
   ]
  },
  {
   "cell_type": "code",
   "execution_count": 3,
   "id": "4d2edba9-2021-4d3f-b2d9-799b5dffe754",
   "metadata": {},
   "outputs": [
    {
     "name": "stdout",
     "output_type": "stream",
     "text": [
      "Updated list: [10, 20, 30, 40]\n"
     ]
    }
   ],
   "source": [
    "##3. Append an element to the end of a list.\n",
    "# Example list\n",
    "my_list = [10, 20, 30]\n",
    "\n",
    "# Element to append\n",
    "new_element = 40\n",
    "\n",
    "# Append the new element to the end of the list\n",
    "my_list.append(new_element)\n",
    "\n",
    "# Print the updated list\n",
    "print(\"Updated list:\", my_list)"
   ]
  },
  {
   "cell_type": "code",
   "execution_count": 4,
   "id": "0f48fc70-4ae9-4b08-8531-bfe0971bc3d5",
   "metadata": {},
   "outputs": [
    {
     "name": "stdout",
     "output_type": "stream",
     "text": [
      "Updated list: [10, 20, 25, 30, 40, 50]\n"
     ]
    }
   ],
   "source": [
    "#4. Insert an element at a specific index in a list.\n",
    "# Example list\n",
    "my_list = [10, 20, 30, 40, 50]\n",
    "\n",
    "# Element to insert\n",
    "new_element = 25\n",
    "\n",
    "# Index at which to insert the element\n",
    "index_to_insert = 2\n",
    "\n",
    "# Insert the new element at the specified index\n",
    "my_list.insert(index_to_insert, new_element)\n",
    "\n",
    "# Print the updated list\n",
    "print(\"Updated list:\", my_list)"
   ]
  },
  {
   "cell_type": "code",
   "execution_count": 5,
   "id": "6393f9e5-4ae8-4724-b673-516b50e35e7f",
   "metadata": {},
   "outputs": [
    {
     "name": "stdout",
     "output_type": "stream",
     "text": [
      "Updated list: [10, 20, 40, 50]\n"
     ]
    }
   ],
   "source": [
    "#5. Remove an element from a list by its value.\n",
    "# Example list\n",
    "my_list = [10, 20, 30, 40, 50]\n",
    "\n",
    "# Element to remove\n",
    "element_to_remove = 30\n",
    "\n",
    "# Remove the element by its value\n",
    "my_list.remove(element_to_remove)\n",
    "\n",
    "# Print the updated list\n",
    "print(\"Updated list:\", my_list)"
   ]
  },
  {
   "cell_type": "code",
   "execution_count": 7,
   "id": "e9193d16-39df-4bb9-b996-6dca9a45fb16",
   "metadata": {},
   "outputs": [
    {
     "name": "stdout",
     "output_type": "stream",
     "text": [
      "Updated list: [10, 20, 30, 50]\n",
      "Removed element: 40\n"
     ]
    }
   ],
   "source": [
    "#6. Remove an element from a list by its index.\n",
    "# Example list\n",
    "my_list = [10, 20, 30, 40, 50]\n",
    "\n",
    "# Index of the element to remove\n",
    "index_to_remove = 3\n",
    "\n",
    "# Remove the element at the specified index\n",
    "removed_element = my_list.pop(index_to_remove)\n",
    "\n",
    "# Print the updated list and the removed element\n",
    "print(\"Updated list:\", my_list)\n",
    "print(\"Removed element:\", removed_element)"
   ]
  },
  {
   "cell_type": "code",
   "execution_count": 8,
   "id": "f603f0f3-11e1-491c-8994-ef3cdfa1eee3",
   "metadata": {},
   "outputs": [
    {
     "name": "stdout",
     "output_type": "stream",
     "text": [
      "30 exists in the list.\n"
     ]
    }
   ],
   "source": [
    "#7. Check if an element exists in a list.\n",
    "# Example list\n",
    "my_list = [10, 20, 30, 40, 50]\n",
    "\n",
    "# Element to check\n",
    "element_to_check = 30\n",
    "\n",
    "# Check if the element exists in the list\n",
    "if element_to_check in my_list:\n",
    "    print(f\"{element_to_check} exists in the list.\")\n",
    "else:\n",
    "    print(f\"{element_to_check} does not exist in the list.\")"
   ]
  },
  {
   "cell_type": "code",
   "execution_count": 9,
   "id": "76f05090-f8a8-48aa-a90d-e95b858d965a",
   "metadata": {},
   "outputs": [
    {
     "name": "stdout",
     "output_type": "stream",
     "text": [
      "The index of 30 is 2\n"
     ]
    }
   ],
   "source": [
    "#8. Find the index of the first occurrence of an element in a list.\n",
    "# Example list\n",
    "my_list = [10, 20, 30, 40, 50, 30]\n",
    "\n",
    "# Element to find the index of\n",
    "element_to_find = 30\n",
    "\n",
    "# Find the index of the first occurrence of the element\n",
    "index = my_list.index(element_to_find)\n",
    "\n",
    "# Print the index\n",
    "print(f\"The index of {element_to_find} is {index}\")"
   ]
  },
  {
   "cell_type": "code",
   "execution_count": 10,
   "id": "b7a331e3-6013-4e72-a599-c3f6efacf1dc",
   "metadata": {},
   "outputs": [
    {
     "name": "stdout",
     "output_type": "stream",
     "text": [
      "The element 30 occurs 3 times in the list.\n"
     ]
    }
   ],
   "source": [
    "#9. Count the occurrences of an element in a list.\n",
    "# Example list\n",
    "my_list = [10, 20, 30, 40, 50, 30, 30]\n",
    "\n",
    "# Element to count occurrences of\n",
    "element_to_count = 30\n",
    "\n",
    "# Count the occurrences of the element\n",
    "count = my_list.count(element_to_count)\n",
    "\n",
    "# Print the count\n",
    "print(f\"The element {element_to_count} occurs {count} times in the list.\")"
   ]
  },
  {
   "cell_type": "code",
   "execution_count": 11,
   "id": "5e96fafd-889f-48b2-ae17-0028a102b99e",
   "metadata": {},
   "outputs": [
    {
     "name": "stdout",
     "output_type": "stream",
     "text": [
      "Reversed list: [50, 40, 30, 20, 10]\n"
     ]
    }
   ],
   "source": [
    "##10. Reverse the order of elements in a list.\n",
    "# Example list\n",
    "my_list = [10, 20, 30, 40, 50]\n",
    "\n",
    "# Reverse the order of elements in the list\n",
    "my_list.reverse()\n",
    "\n",
    "# Print the reversed list\n",
    "print(\"Reversed list:\", my_list)"
   ]
  },
  {
   "cell_type": "code",
   "execution_count": 12,
   "id": "7e1620c6-cef3-4f82-897f-6a16451b4c62",
   "metadata": {},
   "outputs": [
    {
     "name": "stdout",
     "output_type": "stream",
     "text": [
      "Sorted list in ascending order: [10, 20, 30, 40, 50]\n"
     ]
    }
   ],
   "source": [
    "#11. Sort a list in ascending order.\n",
    "# Example list\n",
    "my_list = [50, 10, 30, 40, 20]\n",
    "\n",
    "# Sort the list in ascending order\n",
    "my_list.sort()\n",
    "\n",
    "# Print the sorted list\n",
    "print(\"Sorted list in ascending order:\", my_list)"
   ]
  },
  {
   "cell_type": "code",
   "execution_count": 13,
   "id": "75dfaa71-6429-4a49-b3d5-cde5868dc705",
   "metadata": {},
   "outputs": [
    {
     "name": "stdout",
     "output_type": "stream",
     "text": [
      "Sorted list in descending order: [50, 40, 30, 20, 10]\n"
     ]
    }
   ],
   "source": [
    "#12. Sort a list in descending order.\n",
    "# Example list\n",
    "my_list = [50, 10, 30, 40, 20]\n",
    "\n",
    "# Sort the list in descending order\n",
    "my_list.sort(reverse=True)\n",
    "\n",
    "# Print the sorted list\n",
    "print(\"Sorted list in descending order:\", my_list)\n"
   ]
  },
  {
   "cell_type": "code",
   "execution_count": 14,
   "id": "7979f5c1-86f4-4f5e-8f8d-4721b2da1fde",
   "metadata": {},
   "outputs": [
    {
     "name": "stdout",
     "output_type": "stream",
     "text": [
      "List of even numbers: [2, 4, 6, 8, 10, 12, 14, 16, 18, 20]\n"
     ]
    }
   ],
   "source": [
    "#13. Create a list of even numbers from 1 to 20.\n",
    "# Use a list comprehension to create a list of even numbers from 1 to 20\n",
    "even_numbers = [x for x in range(2, 21, 2)]\n",
    "\n",
    "# Print the list of even numbers\n",
    "print(\"List of even numbers:\", even_numbers)"
   ]
  },
  {
   "cell_type": "code",
   "execution_count": 15,
   "id": "d6350b9e-4c2f-4a53-9936-d4549d4c9880",
   "metadata": {},
   "outputs": [
    {
     "name": "stdout",
     "output_type": "stream",
     "text": [
      "List of odd numbers: [1, 3, 5, 7, 9, 11, 13, 15, 17, 19]\n"
     ]
    }
   ],
   "source": [
    "#14. Create a list of odd numbers from 1 to 20.\n",
    "# Use a list comprehension to create a list of odd numbers from 1 to 20\n",
    "odd_numbers = [x for x in range(1, 21, 2)]\n",
    "\n",
    "# Print the list of odd numbers\n",
    "print(\"List of odd numbers:\", odd_numbers)"
   ]
  },
  {
   "cell_type": "code",
   "execution_count": 16,
   "id": "1761a77f-d4b8-4f8e-a8a4-9babe68a50bb",
   "metadata": {},
   "outputs": [
    {
     "name": "stdout",
     "output_type": "stream",
     "text": [
      "Sum of elements: 150\n"
     ]
    }
   ],
   "source": [
    "#15. Find the sum of all elements in a list.\n",
    "# Example list\n",
    "my_list = [10, 20, 30, 40, 50]\n",
    "\n",
    "# Calculate the sum of all elements in the list\n",
    "total_sum = sum(my_list)\n",
    "\n",
    "# Print the sum\n",
    "print(\"Sum of elements:\", total_sum)"
   ]
  },
  {
   "cell_type": "code",
   "execution_count": 17,
   "id": "612dd467-63dd-4fdf-94dd-d063b0de9f69",
   "metadata": {},
   "outputs": [
    {
     "name": "stdout",
     "output_type": "stream",
     "text": [
      "Maximum value: 50\n"
     ]
    }
   ],
   "source": [
    "#16. Find the maximum value in a list.\n",
    "# Example list\n",
    "my_list = [10, 20, 30, 40, 50]\n",
    "\n",
    "# Find the maximum value in the list\n",
    "max_value = max(my_list)\n",
    "\n",
    "# Print the maximum value\n",
    "print(\"Maximum value:\", max_value)"
   ]
  },
  {
   "cell_type": "code",
   "execution_count": 18,
   "id": "92f00eb8-2164-444d-b563-d212c3725758",
   "metadata": {},
   "outputs": [
    {
     "name": "stdout",
     "output_type": "stream",
     "text": [
      "Minimum value: 10\n"
     ]
    }
   ],
   "source": [
    "#17. Find the minimum value in a list.\n",
    "# Example list\n",
    "my_list = [10, 20, 30, 40, 50]\n",
    "\n",
    "# Find the minimum value in the list\n",
    "min_value = min(my_list)\n",
    "\n",
    "# Print the minimum value\n",
    "print(\"Minimum value:\", min_value)"
   ]
  },
  {
   "cell_type": "code",
   "execution_count": 19,
   "id": "5e8a1389-eb14-4b55-8c6b-321ba49db719",
   "metadata": {},
   "outputs": [
    {
     "name": "stdout",
     "output_type": "stream",
     "text": [
      "List of squares: [1, 4, 9, 16, 25, 36, 49, 64, 81, 100]\n"
     ]
    }
   ],
   "source": [
    "#18. Create a list of squares of numbers from 1 to 10.\n",
    "# Use a list comprehension to create a list of squares of numbers from 1 to 10\n",
    "squares = [x ** 2 for x in range(1, 11)]\n",
    "\n",
    "# Print the list of squares\n",
    "print(\"List of squares:\", squares)"
   ]
  },
  {
   "cell_type": "code",
   "execution_count": 20,
   "id": "af8e862e-1fd8-4b25-8e01-546c0c007891",
   "metadata": {},
   "outputs": [
    {
     "name": "stdout",
     "output_type": "stream",
     "text": [
      "List of random integers: [7, 21, 22, 63, 60, 22, 35, 100, 74, 54]\n"
     ]
    }
   ],
   "source": [
    "#19. Create a list of random numbers.\n",
    "import random\n",
    "\n",
    "# Create a list of random integers between 1 and 100\n",
    "random_integers = [random.randint(1, 100) for _ in range(10)]\n",
    "\n",
    "# Print the list of random integers\n",
    "print(\"List of random integers:\", random_integers)"
   ]
  },
  {
   "cell_type": "code",
   "execution_count": 21,
   "id": "f12cd66e-5893-4366-ade3-e639c5beb3a8",
   "metadata": {},
   "outputs": [
    {
     "name": "stdout",
     "output_type": "stream",
     "text": [
      "List without duplicates: [40, 10, 50, 20, 30]\n"
     ]
    }
   ],
   "source": [
    "#20 Remove duplicates from a list.\n",
    "# Example list with duplicates\n",
    "my_list = [10, 20, 30, 20, 40, 10, 50, 30]\n",
    "\n",
    "# Remove duplicates by converting to a set and back to a list\n",
    "unique_list = list(set(my_list))\n",
    "\n",
    "# Print the list without duplicates\n",
    "print(\"List without duplicates:\", unique_list)"
   ]
  },
  {
   "cell_type": "code",
   "execution_count": 22,
   "id": "0facb476-ba4b-447d-941a-6144ef47a0d3",
   "metadata": {},
   "outputs": [
    {
     "name": "stdout",
     "output_type": "stream",
     "text": [
      "[4, 5]\n"
     ]
    }
   ],
   "source": [
    "#21. Find the common elements between two lists.\n",
    "def find_common_elements(list1, list2):\n",
    "    return list(set(list1) & set(list2))\n",
    "\n",
    "# Example usage:\n",
    "list1 = [1, 2, 3, 4, 5]\n",
    "list2 = [4, 5, 6, 7, 8]\n",
    "print(find_common_elements(list1, list2))  # Output: [4, 5]\n"
   ]
  },
  {
   "cell_type": "code",
   "execution_count": 23,
   "id": "5355d910-b384-4975-9820-e5283cc595b8",
   "metadata": {},
   "outputs": [
    {
     "name": "stdout",
     "output_type": "stream",
     "text": [
      "Difference between lists: [20, 10]\n"
     ]
    }
   ],
   "source": [
    "#22. Find the difference between two lists.\n",
    "# Example lists\n",
    "list1 = [10, 20, 30, 40, 50]\n",
    "list2 = [30, 40, 50, 60, 70]\n",
    "\n",
    "# Find the difference between lists using the difference() method\n",
    "difference = list(set(list1).difference(list2))\n",
    "\n",
    "# Print the difference\n",
    "print(\"Difference between lists:\", difference)"
   ]
  },
  {
   "cell_type": "code",
   "execution_count": 24,
   "id": "bf8ae827-c38d-46ee-8a4e-f34f8c31f5cc",
   "metadata": {},
   "outputs": [
    {
     "name": "stdout",
     "output_type": "stream",
     "text": [
      "Merged list: [10, 20, 30, 40, 50, 60]\n"
     ]
    }
   ],
   "source": [
    "#23. Merge two lists.\n",
    "# Example lists\n",
    "list1 = [10, 20, 30]\n",
    "list2 = [40, 50, 60]\n",
    "\n",
    "# Merge lists using the + operator\n",
    "merged_list = list1 + list2\n",
    "\n",
    "# Print the merged list\n",
    "print(\"Merged list:\", merged_list)"
   ]
  },
  {
   "cell_type": "code",
   "execution_count": 25,
   "id": "a918354c-a89c-46d8-b08e-2fea50a2bdca",
   "metadata": {},
   "outputs": [
    {
     "name": "stdout",
     "output_type": "stream",
     "text": [
      "Multiplied list: [20, 40, 60, 80, 100]\n"
     ]
    }
   ],
   "source": [
    "#24. Multiply all elements in a list by 2.\n",
    "# Example list\n",
    "my_list = [10, 20, 30, 40, 50]\n",
    "\n",
    "# Multiply all elements by 2 using a list comprehension\n",
    "multiplied_list = [x * 2 for x in my_list]\n",
    "\n",
    "# Print the multiplied list\n",
    "print(\"Multiplied list:\", multiplied_list)"
   ]
  },
  {
   "cell_type": "code",
   "execution_count": 26,
   "id": "ad1bb6a2-5fee-484a-be52-e7cd493ff4ca",
   "metadata": {},
   "outputs": [
    {
     "name": "stdout",
     "output_type": "stream",
     "text": [
      "[1, 3, 5]\n"
     ]
    }
   ],
   "source": [
    "##25. Filter out all even numbers from a list.\n",
    "def filter_even_numbers(lst):\n",
    "    return [num for num in lst if num % 2 != 0]\n",
    "\n",
    "# Example usage:\n",
    "lst = [1, 2, 3, 4, 5, 6]\n",
    "print(filter_even_numbers(lst))  # Output: [1, 3, 5]\n"
   ]
  },
  {
   "cell_type": "code",
   "execution_count": 27,
   "id": "6c7f52c7-449e-49df-bc1e-ffcd5b4f662f",
   "metadata": {},
   "outputs": [
    {
     "name": "stdout",
     "output_type": "stream",
     "text": [
      "List of integers: [10, 20, 30, 40, 50]\n"
     ]
    }
   ],
   "source": [
    "#26. Convert a list of strings to a list of integers.\n",
    "# Example list of strings\n",
    "string_list = [\"10\", \"20\", \"30\", \"40\", \"50\"]\n",
    "\n",
    "# Convert list of strings to list of integers using a list comprehension\n",
    "integer_list = [int(x) for x in string_list]\n",
    "\n",
    "# Print the list of integers\n",
    "print(\"List of integers:\", integer_list)"
   ]
  },
  {
   "cell_type": "code",
   "execution_count": 28,
   "id": "a2df7bb0-c8d2-48df-ad9a-e1ffa5371a77",
   "metadata": {},
   "outputs": [
    {
     "name": "stdout",
     "output_type": "stream",
     "text": [
      "List of strings: ['10', '20', '30', '40', '50']\n"
     ]
    }
   ],
   "source": [
    "#27. Convert a list of integers to a list of strings.\n",
    "# Example list of integers\n",
    "integer_list = [10, 20, 30, 40, 50]\n",
    "\n",
    "# Convert list of integers to list of strings using a list comprehension\n",
    "string_list = [str(x) for x in integer_list]\n",
    "\n",
    "# Print the list of strings\n",
    "print(\"List of strings:\", string_list)"
   ]
  },
  {
   "cell_type": "code",
   "execution_count": 29,
   "id": "1dfc0c57-2064-44c3-a71c-703fd4bdcfc3",
   "metadata": {},
   "outputs": [
    {
     "name": "stdout",
     "output_type": "stream",
     "text": [
      "Flattened list: [1, 2, 3, 4, 5, 6, 7, 8, 9]\n"
     ]
    }
   ],
   "source": [
    "#28. Flatten a nested list.\n",
    "# Example nested list\n",
    "nested_list = [[1, 2, 3], [4, 5], [6, 7, 8, 9]]\n",
    "\n",
    "# Function to flatten a nested list\n",
    "def flatten_list(nested):\n",
    "    flattened = []\n",
    "    for sublist in nested:\n",
    "        if isinstance(sublist, list):\n",
    "            flattened.extend(flatten_list(sublist))\n",
    "        else:\n",
    "            flattened.append(sublist)\n",
    "    return flattened\n",
    "\n",
    "# Flatten the nested list\n",
    "flattened_list = flatten_list(nested_list)\n",
    "\n",
    "# Print the flattened list\n",
    "print(\"Flattened list:\", flattened_list)"
   ]
  },
  {
   "cell_type": "code",
   "execution_count": 30,
   "id": "66356063-be28-4b15-9036-10f2c8b361d3",
   "metadata": {},
   "outputs": [
    {
     "name": "stdout",
     "output_type": "stream",
     "text": [
      "First 10 Fibonacci numbers: [0, 1]\n"
     ]
    }
   ],
   "source": [
    "#29 Create a list of the first 10 Fibonacci numbers.\n",
    "# Function to generate the first n Fibonacci numbers\n",
    "def generate_fibonacci(n):\n",
    "    fibonacci_list = [0, 1]  # Initialize the list with the first two Fibonacci numbers\n",
    "\n",
    "    for i in range(2, n):\n",
    "        next_fibonacci = fibonacci_list[i - 1] + fibonacci_list[i - 2]\n",
    "        fibonacci_list.append(next_fibonacci)\n",
    "\n",
    "    return fibonacci_list\n",
    "\n",
    "# Generate the first 10 Fibonacci numbers\n",
    "fibonacci_numbers = generate_fibonacci(2)\n",
    "\n",
    "# Print the list of Fibonacci numbers\n",
    "print(\"First 10 Fibonacci numbers:\", fibonacci_numbers)"
   ]
  },
  {
   "cell_type": "code",
   "execution_count": 31,
   "id": "800fb091-1b4f-4273-9912-bf630cf57bce",
   "metadata": {},
   "outputs": [
    {
     "name": "stdout",
     "output_type": "stream",
     "text": [
      "The list is sorted in ascending order.\n"
     ]
    }
   ],
   "source": [
    "#30. Check if a list is sorted.\n",
    "# Function to check if a list is sorted in ascending order\n",
    "def is_sorted_ascending(lst):\n",
    "    for i in range(1, len(lst)):\n",
    "        if lst[i] < lst[i - 1]:\n",
    "            return False\n",
    "    return True\n",
    "\n",
    "# Example list\n",
    "ascending_list = [10, 20, 30, 40, 50]\n",
    "\n",
    "# Check if the list is sorted in ascending order\n",
    "if is_sorted_ascending(ascending_list):\n",
    "    print(\"The list is sorted in ascending order.\")\n",
    "else:\n",
    "    print(\"The list is not sorted in ascending order.\")"
   ]
  },
  {
   "cell_type": "code",
   "execution_count": 32,
   "id": "de044167-109a-4cc7-a4e6-097b0a525c2c",
   "metadata": {},
   "outputs": [
    {
     "name": "stdout",
     "output_type": "stream",
     "text": [
      "Rotated list: [3, 4, 5, 6, 1, 2]\n"
     ]
    }
   ],
   "source": [
    "#31. Rotate a list to the left by n positions.\n",
    "# Function to rotate a list to the left by n positions\n",
    "def rotate_left(lst, n):\n",
    "    n = n % len(lst)  # Normalize n to handle cases where n is larger than the list length\n",
    "    # print(n)\n",
    "    rotated = lst[n:] + lst[:n]\n",
    "    return rotated\n",
    "\n",
    "# Example list\n",
    "my_list = [1, 2, 3, 4, 5, 6]\n",
    "\n",
    "# Number of positions to rotate by\n",
    "n = 2\n",
    "\n",
    "# Rotate the list to the left by n positions\n",
    "rotated_list = rotate_left(my_list, n)\n",
    "\n",
    "# Print the rotated list\n",
    "print(\"Rotated list:\", rotated_list)"
   ]
  },
  {
   "cell_type": "code",
   "execution_count": 34,
   "id": "fdde2cf3-adcb-4819-88dd-9b2a3edaa98e",
   "metadata": {},
   "outputs": [
    {
     "name": "stdout",
     "output_type": "stream",
     "text": [
      "Rotated list: [5, 6, 1, 2, 3, 4]\n"
     ]
    }
   ],
   "source": [
    "#32. Rotate a list to the right by n positions.\n",
    "# Function to rotate a list to the right by n positions\n",
    "def rotate_right(lst, n):\n",
    "    n = n % len(lst)  # Normalize n to handle cases where n is larger than the list length\n",
    "    # print(n)\n",
    "    rotated = lst[-n:] + lst[:-n]\n",
    "    return rotated\n",
    "\n",
    "# Example list\n",
    "my_list = [1, 2, 3, 4, 5, 6]\n",
    "\n",
    "# Number of positions to rotate by\n",
    "n = 2\n",
    "\n",
    "# Rotate the list to the right by n positions\n",
    "rotated_list = rotate_right(my_list, n)\n",
    "\n",
    "# Print the rotated list\n",
    "print(\"Rotated list:\", rotated_list)"
   ]
  },
  {
   "cell_type": "code",
   "execution_count": 35,
   "id": "dd964297-61f9-4a7e-911c-379d61b6a148",
   "metadata": {},
   "outputs": [
    {
     "name": "stdout",
     "output_type": "stream",
     "text": [
      "5 25\n",
      "5 29\n",
      "List of prime numbers up to 50: [2, 3, 5, 7, 11, 13, 17, 19, 23, 29]\n"
     ]
    }
   ],
   "source": [
    "#33. Create a list of prime numbers up to 50.\n",
    "# Function to check if a number is prime\n",
    "def is_prime(num):\n",
    "    if num <= 1:\n",
    "        return False\n",
    "    if num <= 3:\n",
    "        return True\n",
    "    if num % 2 == 0 or num % 3 == 0:\n",
    "        return False\n",
    "    i = 5\n",
    "    while i * i <= num:\n",
    "      print(i,num)\n",
    "      if num % i == 0 or num % (i + 2) == 0:\n",
    "          return False\n",
    "      i += 6\n",
    "    return True\n",
    "\n",
    "# Create a list of prime numbers up to 50\n",
    "prime_numbers = [num for num in range(2,30) if is_prime(num)]\n",
    "\n",
    "# Print the list of prime numbers\n",
    "print(\"List of prime numbers up to 50:\", prime_numbers)"
   ]
  },
  {
   "cell_type": "code",
   "execution_count": 36,
   "id": "9ca0a546-28a1-4d7b-9035-2f8e5ab0a212",
   "metadata": {},
   "outputs": [
    {
     "name": "stdout",
     "output_type": "stream",
     "text": [
      "List of prime numbers up to 50: [2, 3, 5, 7, 11, 13, 17, 19, 23, 29, 31, 37, 41, 43, 47]\n"
     ]
    }
   ],
   "source": [
    "#34. Split a list into chunks of size n.\n",
    "# Create a list of prime numbers up to 50 using Sieve of Eratosthenes algorithm\n",
    "def sieve_of_eratosthenes(limit):\n",
    "    primes = []\n",
    "    is_prime = [True] * (limit + 1)\n",
    "    is_prime[0] = is_prime[1] = False\n",
    "\n",
    "    for num in range(2, int(limit ** 0.5) + 1):\n",
    "        if is_prime[num]:\n",
    "            primes.append(num)\n",
    "            for multiple in range(num * num, limit + 1, num):\n",
    "                is_prime[multiple] = False\n",
    "\n",
    "    for num in range(int(limit ** 0.5) + 1, limit + 1):\n",
    "        if is_prime[num]:\n",
    "            primes.append(num)\n",
    "\n",
    "    return primes\n",
    "\n",
    "# Create a list of prime numbers up to 50\n",
    "prime_numbers = sieve_of_eratosthenes(50)\n",
    "\n",
    "# Print the list of prime numbers\n",
    "print(\"List of prime numbers up to 50:\", prime_numbers)"
   ]
  },
  {
   "cell_type": "code",
   "execution_count": 37,
   "id": "8c6b463e-26a9-443a-a4dd-3d8567afe683",
   "metadata": {},
   "outputs": [
    {
     "name": "stdout",
     "output_type": "stream",
     "text": [
      "Second largest number: 25\n"
     ]
    }
   ],
   "source": [
    "#35. Find the second largest number in a list.\n",
    "# Example list\n",
    "my_list = [10, 5, 20, 15, 30, 25]\n",
    "\n",
    "# Remove duplicates and sort the list in ascending order\n",
    "sorted_list = sorted(set(my_list))\n",
    "\n",
    "# Find the second largest number\n",
    "if len(sorted_list) >= 2:\n",
    "    second_largest = sorted_list[-2]\n",
    "    print(\"Second largest number:\", second_largest)\n",
    "else:\n",
    "    print(\"The list does not contain enough elements.\")"
   ]
  },
  {
   "cell_type": "code",
   "execution_count": 38,
   "id": "e2eb4a9e-f2f7-4b99-9614-f31fa3bbd7eb",
   "metadata": {},
   "outputs": [
    {
     "name": "stdout",
     "output_type": "stream",
     "text": [
      "Squared list: [4, 16, 36, 64, 100]\n"
     ]
    }
   ],
   "source": [
    "##36. Replace every element in a list with its square.\n",
    "# Example list\n",
    "my_list = [2, 4, 6, 8, 10]\n",
    "\n",
    "# Replace every element with its square using a list comprehension\n",
    "squared_list = [x ** 2 for x in my_list]\n",
    "\n",
    "# Print the squared list\n",
    "print(\"Squared list:\", squared_list)"
   ]
  },
  {
   "cell_type": "code",
   "execution_count": 39,
   "id": "cc81095d-2a68-40c7-84fc-57efb19134fa",
   "metadata": {},
   "outputs": [
    {
     "name": "stdout",
     "output_type": "stream",
     "text": [
      "Converted dictionary: {'apple': 0, 'banana': 1, 'cherry': 2, 'date': 3, 'elderberry': 4}\n"
     ]
    }
   ],
   "source": [
    "#37. Convert a list to a dictionary where list elements become keys and their indices become values.\n",
    "# Example list\n",
    "my_list = ['apple', 'banana', 'cherry', 'date', 'elderberry']\n",
    "\n",
    "# Convert list to dictionary using dictionary comprehension\n",
    "my_dict = {element: index for index, element in enumerate(my_list)}\n",
    "\n",
    "# Print the resulting dictionary\n",
    "print(\"Converted dictionary:\", my_dict)"
   ]
  },
  {
   "cell_type": "code",
   "execution_count": 40,
   "id": "c623f66c-974c-442e-aebe-7e095b983145",
   "metadata": {},
   "outputs": [
    {
     "name": "stdout",
     "output_type": "stream",
     "text": [
      "Shuffled list: [4, 7, 10, 2, 9, 5, 8, 1, 6, 3]\n"
     ]
    }
   ],
   "source": [
    "#38 Shuffle the elements of a list randomly.\n",
    "import random\n",
    "\n",
    "# Example list\n",
    "my_list = [1, 2, 3, 4, 5, 6, 7, 8, 9, 10]\n",
    "\n",
    "# Shuffle the list randomly\n",
    "random.shuffle(my_list)\n",
    "\n",
    "# Print the shuffled list\n",
    "print(\"Shuffled list:\", my_list)"
   ]
  },
  {
   "cell_type": "code",
   "execution_count": 41,
   "id": "d6360dea-febf-4cc9-a240-c8b1873f8070",
   "metadata": {},
   "outputs": [
    {
     "name": "stdout",
     "output_type": "stream",
     "text": [
      "List of the first 10 factorial numbers: [1, 1, 2, 6, 24, 120, 720, 5040, 40320, 362880]\n"
     ]
    }
   ],
   "source": [
    "#39. Create a list of the first 10 factorial numbers.\n",
    "# Function to calculate factorial\n",
    "def factorial(n):\n",
    "    if n == 0 or n == 1:\n",
    "        return 1\n",
    "    else:\n",
    "        return n * factorial(n - 1)\n",
    "\n",
    "# Create a list of the first 10 factorial numbers\n",
    "factorial_numbers = [factorial(i) for i in range(10)]\n",
    "\n",
    "# Print the list of factorial numbers\n",
    "print(\"List of the first 10 factorial numbers:\", factorial_numbers)"
   ]
  },
  {
   "cell_type": "code",
   "execution_count": 42,
   "id": "c80d8691-9e29-48eb-8d2b-0826fa67fefc",
   "metadata": {},
   "outputs": [
    {
     "name": "stdout",
     "output_type": "stream",
     "text": [
      "The lists have at least one common element.\n"
     ]
    }
   ],
   "source": [
    "#40. Check if two lists have at least one element in common.\n",
    "# Function to check if two lists have at least one element in common\n",
    "def has_common_element(list1, list2):\n",
    "    for item in list1:\n",
    "        if item in list2:\n",
    "            return True\n",
    "    return False\n",
    "\n",
    "# Example lists\n",
    "list1 = [1, 2, 3, 4, 5]\n",
    "list2 = [4, 5, 6, 7, 8]\n",
    "\n",
    "# Check if the two lists have at least one element in common\n",
    "if has_common_element(list1, list2):\n",
    "    print(\"The lists have at least one common element.\")\n",
    "else:\n",
    "    print(\"The lists do not have any common elements.\")"
   ]
  },
  {
   "cell_type": "code",
   "execution_count": 43,
   "id": "d2eff5b0-945b-433e-b26c-5d711c95da74",
   "metadata": {},
   "outputs": [
    {
     "name": "stdout",
     "output_type": "stream",
     "text": [
      "Empty list: []\n"
     ]
    }
   ],
   "source": [
    "#41. Remove all elements from a list.\n",
    "# Example list\n",
    "my_list = [1, 2, 3, 4, 5]\n",
    "\n",
    "# Clear all elements from the list\n",
    "my_list.clear()\n",
    "\n",
    "# Print the empty list\n",
    "print(\"Empty list:\", my_list)"
   ]
  },
  {
   "cell_type": "code",
   "execution_count": 44,
   "id": "1abf4b31-35cc-43aa-8f43-66c19310c769",
   "metadata": {},
   "outputs": [
    {
     "name": "stdout",
     "output_type": "stream",
     "text": [
      "List after replacing negative numbers with 0: [10, 0, 20, 0, 30, 0]\n"
     ]
    }
   ],
   "source": [
    "#42. Replace negative numbers in a list with 0.\n",
    "# Example list\n",
    "my_list = [10, -5, 20, -15, 30, -25]\n",
    "\n",
    "# Step 1: Iterate through the list and replace negative numbers with 0\n",
    "for i in range(len(my_list)):\n",
    "    if my_list[i] < 0:\n",
    "        my_list[i] = 0\n",
    "\n",
    "# Print the list after replacing negative numbers with 0\n",
    "print(\"List after replacing negative numbers with 0:\", my_list)"
   ]
  },
  {
   "cell_type": "code",
   "execution_count": 45,
   "id": "560570e5-630e-40a8-bd22-27ddd99239b4",
   "metadata": {},
   "outputs": [
    {
     "name": "stdout",
     "output_type": "stream",
     "text": [
      "List of words: ['Hello,', 'this', 'is', 'a', 'sample', 'sentence.']\n"
     ]
    }
   ],
   "source": [
    "#43. Convert a string into a list of words.\n",
    "# Example string\n",
    "my_string = \"Hello, this is a sample sentence.\"\n",
    "\n",
    "# Convert the string into a list of words\n",
    "word_list = my_string.split()\n",
    "\n",
    "# Print the list of words\n",
    "print(\"List of words:\", word_list)"
   ]
  },
  {
   "cell_type": "code",
   "execution_count": 47,
   "id": "e1dc434d-de9e-4fea-bb39-7f823bfb8a83",
   "metadata": {},
   "outputs": [
    {
     "name": "stdout",
     "output_type": "stream",
     "text": [
      "Converted string: Hello, this is a sample sentence.\n"
     ]
    }
   ],
   "source": [
    "#44. Convert a list of words into a string.\n",
    "# Example list of words\n",
    "word_list = [\"Hello,\", \"this\", \"is\", \"a\", \"sample\", \"sentence.\"]\n",
    "\n",
    "# Convert the list of words into a string\n",
    "my_string = \" \".join(word_list)\n",
    "\n",
    "# Print the resulting string\n",
    "print(\"Converted string:\", my_string)"
   ]
  },
  {
   "cell_type": "code",
   "execution_count": 48,
   "id": "e95e3496-0443-4fd4-ac21-11522b3ec73e",
   "metadata": {},
   "outputs": [
    {
     "name": "stdout",
     "output_type": "stream",
     "text": [
      "List of the first 5 powers of 2: [1, 2, 4, 8, 16]\n"
     ]
    }
   ],
   "source": [
    "#45. Create a list of the first n powers of 2.\n",
    "# Specify the value of n\n",
    "n = 5\n",
    "\n",
    "# Create a list of the first n powers of 2 using a loop\n",
    "power_list = [2 ** i for i in range(n)]\n",
    "\n",
    "# Print the list of powers of 2\n",
    "print(\"List of the first\", n, \"powers of 2:\", power_list)"
   ]
  },
  {
   "cell_type": "code",
   "execution_count": 49,
   "id": "35667e01-2707-4211-9fba-d98f60a54986",
   "metadata": {},
   "outputs": [
    {
     "name": "stdout",
     "output_type": "stream",
     "text": [
      "Longest string: elderberry\n"
     ]
    }
   ],
   "source": [
    "#46. Find the longest string in a list of strings.\n",
    "# Example list of strings\n",
    "string_list = [\"apple\", \"banana\", \"cherry\", \"date\", \"elderberry\"]\n",
    "\n",
    "# Find the longest string in the list\n",
    "longest_string = \"\"\n",
    "for s in string_list:\n",
    "    if len(s) > len(longest_string):\n",
    "        longest_string = s\n",
    "\n",
    "# Print the longest string\n",
    "print(\"Longest string:\", longest_string)"
   ]
  },
  {
   "cell_type": "code",
   "execution_count": 50,
   "id": "26d42ad4-d851-4b8d-91a5-0ee097dd753f",
   "metadata": {},
   "outputs": [
    {
     "name": "stdout",
     "output_type": "stream",
     "text": [
      "Shortest string: date\n"
     ]
    }
   ],
   "source": [
    "#47. Find the shortest string in a list of strings.\n",
    "# Example list of strings\n",
    "string_list = [\"apple\", \"banana\", \"cherry\", \"date\", \"elderberry\"]\n",
    "\n",
    "# Find the shortest string in the list\n",
    "shortest_string = string_list[0]  # Initialize with the first string\n",
    "for s in string_list:\n",
    "    if len(s) < len(shortest_string):\n",
    "        shortest_string = s\n",
    "\n",
    "# Print the shortest string\n",
    "print(\"Shortest string:\", shortest_string)"
   ]
  },
  {
   "cell_type": "code",
   "execution_count": 51,
   "id": "2d8453ba-6e75-4a14-9d21-1556b025e54a",
   "metadata": {},
   "outputs": [
    {
     "name": "stdout",
     "output_type": "stream",
     "text": [
      "List of the first 5 triangular numbers: [1, 3, 6, 10, 15]\n"
     ]
    }
   ],
   "source": [
    "#48. Create a list of the first n triangular numbers.\n",
    "# Function to calculate triangular numbers\n",
    "def triangular_numbers(n):\n",
    "    return [i * (i + 1) // 2 for i in range(1, n + 1)]\n",
    "\n",
    "# Specify the value of n\n",
    "n = 5\n",
    "\n",
    "# Create a list of the first n triangular numbers\n",
    "triangular_list = triangular_numbers(n)\n",
    "\n",
    "# Print the list of triangular numbers\n",
    "print(\"List of the first\", n, \"triangular numbers:\", triangular_list)"
   ]
  },
  {
   "cell_type": "code",
   "execution_count": 52,
   "id": "1016508e-9f6c-40cf-b54c-95f498db72c1",
   "metadata": {},
   "outputs": [
    {
     "name": "stdout",
     "output_type": "stream",
     "text": [
      "Main list contains the subsequence.\n"
     ]
    }
   ],
   "source": [
    "#49. Check if a list contains another list as a subsequence.\n",
    "# Function to check if a list contains another list as a subsequence\n",
    "def is_subsequence(subsequence, main_list):\n",
    "    subseq_index = 0  # Index for the subsequence elements\n",
    "    for element in main_list:\n",
    "        if element == subsequence[subseq_index]:\n",
    "            subseq_index += 1\n",
    "            if subseq_index == len(subsequence):\n",
    "                return True\n",
    "    return False\n",
    "\n",
    "# Example main list and subsequence\n",
    "main_list = [1, 2, 3, 4, 5, 6, 7, 8, 9, 10]\n",
    "subsequence = [3, 5, 8]\n",
    "\n",
    "# Check if the main list contains the subsequence\n",
    "if is_subsequence(subsequence, main_list):\n",
    "    print(\"Main list contains the subsequence.\")\n",
    "else:\n",
    "    print(\"Main list does not contain the subsequence.\")"
   ]
  },
  {
   "cell_type": "code",
   "execution_count": 53,
   "id": "04e94dd1-8618-4465-9d31-7d9b4c4d2ffa",
   "metadata": {},
   "outputs": [
    {
     "name": "stdout",
     "output_type": "stream",
     "text": [
      "List after swapping elements: [1, 4, 3, 2, 5]\n"
     ]
    }
   ],
   "source": [
    "#50. Swap two elements in a list by their indices.\n",
    "# Example list\n",
    "my_list = [1, 2, 3, 4, 5]\n",
    "\n",
    "# Indices of elements to swap\n",
    "index1 = 1\n",
    "index2 = 3\n",
    "\n",
    "# Swap the elements at the specified indices\n",
    "temp = my_list[index1]\n",
    "my_list[index1] = my_list[index2]\n",
    "my_list[index2] = temp\n",
    "\n",
    "# Print the list after swapping\n",
    "print(\"List after swapping elements:\", my_list)"
   ]
  },
  {
   "cell_type": "code",
   "execution_count": 1,
   "id": "7d13609e-b7df-42d8-b395-e1e0001ce40f",
   "metadata": {},
   "outputs": [
    {
     "name": "stdout",
     "output_type": "stream",
     "text": [
      "The third element of the tuple is: 30\n"
     ]
    }
   ],
   "source": [
    "#tuple\n",
    "#1. Create a tuple with integers from 1 to 5.\n",
    "# Step 1: Create a tuple\n",
    "my_tuple = (10, 20, 30, 40, 50)\n",
    "\n",
    "# Step 2: Access the third element of the tuple\n",
    "third_element = my_tuple[2]\n",
    "\n",
    "# Explanation: In this line, we use indexing to access the third element of the tuple.\n",
    "# Since indexing is 0-based, the third element is at index 2.\n",
    "\n",
    "# Step 3: Print the third element\n",
    "print(\"The third element of the tuple is:\", third_element)"
   ]
  },
  {
   "cell_type": "code",
   "execution_count": 2,
   "id": "6facac88-db3d-4fb8-82ee-31f4d44b5dc1",
   "metadata": {},
   "outputs": [
    {
     "name": "stdout",
     "output_type": "stream",
     "text": [
      "The third element of the tuple is: 30\n"
     ]
    }
   ],
   "source": [
    "#2. Access the third element of a tuple.\n",
    "# Step 1: Create a tuple with some elements\n",
    "my_tuple = (10, 20, 30, 40, 50)\n",
    "\n",
    "# Step 2: Access the third element (index 2) of the tuple\n",
    "third_element = my_tuple[2]\n",
    "\n",
    "# Step 3: Print the third element\n",
    "print(\"The third element of the tuple is:\", third_element)"
   ]
  },
  {
   "cell_type": "code",
   "execution_count": 3,
   "id": "9c3c66a0-2dbd-451f-9297-4782ca6208e3",
   "metadata": {},
   "outputs": [
    {
     "name": "stdout",
     "output_type": "stream",
     "text": [
      "The length of the tuple is: 5\n"
     ]
    }
   ],
   "source": [
    "#3. Find the length of a tuple without using the len() function.\n",
    "# Step 1: Create a tuple\n",
    "my_tuple = (10, 20, 30, 40, 50)\n",
    "\n",
    "# Step 2: Initialize a variable to count the elements\n",
    "count = 0\n",
    "\n",
    "# Step 3: Iterate through the tuple and increment the count for each element\n",
    "for _ in my_tuple:\n",
    "    count += 1\n",
    "\n",
    "# Step 4: Print the length of the tuple\n",
    "print(\"The length of the tuple is:\", count)"
   ]
  },
  {
   "cell_type": "code",
   "execution_count": 4,
   "id": "effcfa57-2f8e-42db-bddc-28bb1be3c661",
   "metadata": {},
   "outputs": [
    {
     "name": "stdout",
     "output_type": "stream",
     "text": [
      "The element 20 appears 3 times in the tuple.\n"
     ]
    }
   ],
   "source": [
    "#4. Count the occurrences of an element in a tuple.\n",
    "# Step 1: Create a tuple\n",
    "my_tuple = (10, 20, 30, 20, 40, 50, 20)\n",
    "\n",
    "# Step 2: Choose the element to count occurrences of\n",
    "element_to_count = 20\n",
    "\n",
    "# Step 3: Initialize a variable to keep track of the count\n",
    "count = 0\n",
    "\n",
    "# Step 4: Iterate through the tuple and count occurrences of the chosen element\n",
    "for item in my_tuple:\n",
    "    if item == element_to_count:\n",
    "        count += 1\n",
    "\n",
    "# Step 5: Print the count of occurrences\n",
    "print(f\"The element {element_to_count} appears {count} times in the tuple.\")"
   ]
  },
  {
   "cell_type": "code",
   "execution_count": 5,
   "id": "638f2b49-7117-4886-aab6-c6f133ed173e",
   "metadata": {},
   "outputs": [
    {
     "name": "stdout",
     "output_type": "stream",
     "text": [
      "The first occurrence of 20 is at index 1.\n"
     ]
    }
   ],
   "source": [
    "#5. Find the index of the first occurrence of an element in a tuple.\n",
    "# Step 1: Create a tuple\n",
    "my_tuple = (10, 20, 30, 20, 40, 50)\n",
    "\n",
    "# Step 2: Choose the element to find the index of\n",
    "element_to_find = 20\n",
    "\n",
    "# Step 3: Initialize a variable to keep track of the index\n",
    "index = -1  # Initialize with -1 to indicate that the element was not found\n",
    "\n",
    "# Step 4: Iterate through the tuple and find the index of the chosen element\n",
    "for i, item in enumerate(my_tuple):\n",
    "    if item == element_to_find:\n",
    "        index = i\n",
    "        break  # Exit the loop once the first occurrence is found\n",
    "\n",
    "# Step 5: Print the index of the first occurrence\n",
    "if index != -1:\n",
    "    print(f\"The first occurrence of {element_to_find} is at index {index}.\")\n",
    "else:\n",
    "    print(f\"{element_to_find} is not found in the tuple.\")"
   ]
  },
  {
   "cell_type": "code",
   "execution_count": 6,
   "id": "3aadbc84-a4e7-4851-b4b1-d99e4b070d36",
   "metadata": {},
   "outputs": [
    {
     "name": "stdout",
     "output_type": "stream",
     "text": [
      "30 exists in the tuple.\n"
     ]
    }
   ],
   "source": [
    "#6. Check if an element exists in a tuple.\n",
    "# Step 1: Create a tuple\n",
    "my_tuple = (10, 20, 30, 40, 50)\n",
    "\n",
    "# Step 2: Choose the element to check for existence\n",
    "element_to_check = 30\n",
    "\n",
    "# Step 3: Check if the element exists in the tuple using the 'in' operator\n",
    "if element_to_check in my_tuple:\n",
    "    print(f\"{element_to_check} exists in the tuple.\")\n",
    "else:\n",
    "    print(f\"{element_to_check} does not exist in the tuple.\")"
   ]
  },
  {
   "cell_type": "code",
   "execution_count": 7,
   "id": "d95830c2-5bd8-4465-a0c1-32450d25f9ef",
   "metadata": {},
   "outputs": [
    {
     "name": "stdout",
     "output_type": "stream",
     "text": [
      "Tuple: (10, 20, 30, 40, 50)\n",
      "List: [10, 20, 30, 40, 50]\n"
     ]
    }
   ],
   "source": [
    "#7. Convert a tuple to a list.\n",
    "# Step 1: Create a tuple\n",
    "my_tuple = (10, 20, 30, 40, 50)\n",
    "\n",
    "# Step 2: Convert the tuple to a list\n",
    "my_list = list(my_tuple)\n",
    "\n",
    "# Step 3: Print the resulting list\n",
    "print(\"Tuple:\", my_tuple)\n",
    "print(\"List:\", my_list)\n"
   ]
  },
  {
   "cell_type": "code",
   "execution_count": 8,
   "id": "12e4221c-5a15-4e52-b92b-233950b8ddb4",
   "metadata": {},
   "outputs": [
    {
     "name": "stdout",
     "output_type": "stream",
     "text": [
      "List: [10, 20, 30, 40, 50]\n",
      "Tuple: (10, 20, 30, 40, 50)\n"
     ]
    }
   ],
   "source": [
    "#8. Convert a list to a tuple.\n",
    "# Step 1: Create a list\n",
    "my_list = [10, 20, 30, 40, 50]\n",
    "\n",
    "# Step 2: Convert the list to a tuple\n",
    "my_tuple = tuple(my_list)\n",
    "\n",
    "# Step 3: Print the resulting tuple\n",
    "print(\"List:\", my_list)\n",
    "print(\"Tuple:\", my_tuple)\n"
   ]
  },
  {
   "cell_type": "code",
   "execution_count": 9,
   "id": "ac7be3f8-58ed-440c-aa8c-0cc36a7b0df9",
   "metadata": {},
   "outputs": [
    {
     "name": "stdout",
     "output_type": "stream",
     "text": [
      "var1: 10\n",
      "var2: 20\n",
      "var3: 30\n"
     ]
    }
   ],
   "source": [
    "#9. Unpack the elements of a tuple into variables.\n",
    "# Step 1: Create a tuple\n",
    "my_tuple = (10, 20, 30)\n",
    "\n",
    "# Step 2: Unpack the elements of the tuple into variables\n",
    "var1, var2, var3 = my_tuple\n",
    "\n",
    "# Step 3: Print the variables\n",
    "print(\"var1:\", var1)\n",
    "print(\"var2:\", var2)\n",
    "print(\"var3:\", var3)"
   ]
  },
  {
   "cell_type": "code",
   "execution_count": 10,
   "id": "1b4164c7-a139-482a-bc99-d009b10f3b47",
   "metadata": {},
   "outputs": [
    {
     "name": "stdout",
     "output_type": "stream",
     "text": [
      "Tuple of even numbers: (2, 4, 6, 8, 10)\n"
     ]
    }
   ],
   "source": [
    "#10. Create a tuple of even numbers from 1 to 10.\n",
    "# Step 1: Create a list of even numbers using a list comprehension\n",
    "even_numbers_list = [num for num in range(2, 11, 2)]  # Start from 2, step by 2, end at 10\n",
    "\n",
    "# Step 2: Convert the list to a tuple\n",
    "even_numbers_tuple = tuple(even_numbers_list)\n",
    "\n",
    "# Step 3: Print the resulting tuple\n",
    "print(\"Tuple of even numbers:\", even_numbers_tuple)"
   ]
  },
  {
   "cell_type": "code",
   "execution_count": 14,
   "id": "946ef359-ada8-445b-87b4-55bdaeb92df6",
   "metadata": {},
   "outputs": [
    {
     "name": "stdout",
     "output_type": "stream",
     "text": [
      "Tuple of odd numbers: (1, 3, 5, 7, 9)\n"
     ]
    }
   ],
   "source": [
    "#11. Create a tuple of odd numbers from 1 to 10.\n",
    "# Step 1: Create a list of odd numbers using a list comprehension\n",
    "odd_numbers_list = [num for num in range(1, 11, 2)]  # Start from 1, step by 2, end at 10\n",
    "\n",
    "# Step 2: Convert the list to a tuple\n",
    "odd_numbers_tuple = tuple(odd_numbers_list)\n",
    "\n",
    "# Step 3: Print the resulting tuple\n",
    "print(\"Tuple of odd numbers:\", odd_numbers_tuple)"
   ]
  },
  {
   "cell_type": "code",
   "execution_count": 15,
   "id": "0509f568-afcd-4ef4-9f91-1ca5d9403240",
   "metadata": {},
   "outputs": [
    {
     "name": "stdout",
     "output_type": "stream",
     "text": [
      "Concatenated tuple: (1, 2, 3, 4, 5, 6)\n"
     ]
    }
   ],
   "source": [
    "#12. Concatenate two tuples.\n",
    "# Step 1: Create two tuples\n",
    "tuple1 = (1, 2, 3)\n",
    "tuple2 = (4, 5, 6)\n",
    "\n",
    "# Step 2: Concatenate the two tuples\n",
    "concatenated_tuple = tuple1 + tuple2\n",
    "\n",
    "# Step 3: Print the concatenated tuple\n",
    "print(\"Concatenated tuple:\", concatenated_tuple)"
   ]
  },
  {
   "cell_type": "code",
   "execution_count": 16,
   "id": "8dcde66c-c1ad-4021-b5c3-5f614bc67eab",
   "metadata": {},
   "outputs": [
    {
     "name": "stdout",
     "output_type": "stream",
     "text": [
      "Repeated tuple: (1, 2, 3, 1, 2, 3, 1, 2, 3)\n"
     ]
    }
   ],
   "source": [
    "#13. Repeat a tuple three times.\n",
    "# Step 1: Create a tuple\n",
    "original_tuple = (1, 2, 3)\n",
    "\n",
    "# Step 2: Repeat the tuple three times\n",
    "repeated_tuple = original_tuple * 3\n",
    "\n",
    "# Step 3: Print the repeated tuple\n",
    "print(\"Repeated tuple:\", repeated_tuple)"
   ]
  },
  {
   "cell_type": "code",
   "execution_count": 17,
   "id": "e4523997-572d-4489-98d7-5805bcb55136",
   "metadata": {},
   "outputs": [
    {
     "name": "stdout",
     "output_type": "stream",
     "text": [
      "The empty_tuple is empty.\n",
      "The non_empty_tuple is not empty.\n"
     ]
    }
   ],
   "source": [
    "#14. Check if a tuple is empty.\n",
    "# Step 1: Create an empty tuple and a non-empty tuple\n",
    "empty_tuple = ()\n",
    "non_empty_tuple = (1, 2, 3)\n",
    "\n",
    "# Step 2: Check if the tuples are empty\n",
    "if not empty_tuple:\n",
    "    print(\"The empty_tuple is empty.\")\n",
    "else:\n",
    "    print(\"The empty_tuple is not empty.\")\n",
    "\n",
    "if not non_empty_tuple:\n",
    "    print(\"The non_empty_tuple is empty.\")\n",
    "else:\n",
    "    print(\"The non_empty_tuple is not empty.\")"
   ]
  },
  {
   "cell_type": "code",
   "execution_count": 18,
   "id": "41e979f0-ebcc-4967-a00a-b182d6ba8ffb",
   "metadata": {},
   "outputs": [
    {
     "name": "stdout",
     "output_type": "stream",
     "text": [
      "Nested tuple: ((1, 2, 3), ('a', 'b', 'c'), (True, False))\n"
     ]
    }
   ],
   "source": [
    "#15. Create a nested tuple.\n",
    "# Step 1: Create a nested tuple\n",
    "nested_tuple = ((1, 2, 3), ('a', 'b', 'c'), (True, False))\n",
    "\n",
    "# Step 2: Print the nested tuple\n",
    "print(\"Nested tuple:\", nested_tuple)"
   ]
  },
  {
   "cell_type": "code",
   "execution_count": 19,
   "id": "2b9a8335-687c-4080-9956-daf64676a747",
   "metadata": {},
   "outputs": [
    {
     "name": "stdout",
     "output_type": "stream",
     "text": [
      "First element of the nested tuple: (1, 2, 3)\n"
     ]
    }
   ],
   "source": [
    "#16. Access the first element of a nested tuple.\n",
    "# Step 1: Create a nested tuple\n",
    "nested_tuple = ((1, 2, 3), ('a', 'b', 'c'), (True, False))\n",
    "\n",
    "# Step 2: Access the first element of the nested tuple\n",
    "first_element = nested_tuple[0]\n",
    "\n",
    "# Step 3: Print the first element\n",
    "print(\"First element of the nested tuple:\", first_element)"
   ]
  },
  {
   "cell_type": "code",
   "execution_count": 20,
   "id": "35b817c6-a7f6-4dfd-9b2a-9a6649b7e3f3",
   "metadata": {},
   "outputs": [
    {
     "name": "stdout",
     "output_type": "stream",
     "text": [
      "Single element tuple: (42,)\n"
     ]
    }
   ],
   "source": [
    "#17. Create a tuple with a single element.\n",
    "# Step 1: Create a tuple with a single element\n",
    "single_element_tuple = (42,)  # Note the trailing comma\n",
    "\n",
    "# Step 2: Print the single element tuple\n",
    "print(\"Single element tuple:\", single_element_tuple)"
   ]
  },
  {
   "cell_type": "code",
   "execution_count": 21,
   "id": "a6a467e8-f225-46a4-a2ce-d4284478d6ce",
   "metadata": {},
   "outputs": [
    {
     "name": "stdout",
     "output_type": "stream",
     "text": [
      "tuple1 == tuple2: False\n",
      "tuple1 != tuple2: True\n",
      "tuple1 < tuple2: True\n",
      "tuple1 <= tuple2: True\n",
      "tuple1 > tuple2: False\n",
      "tuple1 >= tuple2: False\n"
     ]
    }
   ],
   "source": [
    "#18. Compare two tuples.\n",
    "# Step 1: Create two tuples\n",
    "tuple1 = (1, 2, 3)\n",
    "tuple2 = (1, 2, 4)\n",
    "\n",
    "# Step 2: Compare the two tuples using comparison operators\n",
    "print(\"tuple1 == tuple2:\", tuple1 == tuple2)  # Equality check\n",
    "print(\"tuple1 != tuple2:\", tuple1 != tuple2)  # Inequality check\n",
    "print(\"tuple1 < tuple2:\", tuple1 < tuple2)    # Less than check\n",
    "print(\"tuple1 <= tuple2:\", tuple1 <= tuple2)  # Less than or equal to check\n",
    "print(\"tuple1 > tuple2:\", tuple1 > tuple2)    # Greater than check\n",
    "print(\"tuple1 >= tuple2:\", tuple1 >= tuple2)  # Greater than or equal to check"
   ]
  },
  {
   "cell_type": "code",
   "execution_count": 24,
   "id": "40ec62a8-dd96-46c8-bc15-91aa85c77d4e",
   "metadata": {},
   "outputs": [
    {
     "ename": "NameError",
     "evalue": "name 'thistuple' is not defined",
     "output_type": "error",
     "traceback": [
      "\u001b[0;31m---------------------------------------------------------------------------\u001b[0m",
      "\u001b[0;31mNameError\u001b[0m                                 Traceback (most recent call last)",
      "Cell \u001b[0;32mIn[24], line 5\u001b[0m\n\u001b[1;32m      3\u001b[0m thistuple \u001b[38;5;241m=\u001b[39m (\u001b[38;5;124m\"\u001b[39m\u001b[38;5;124mapple\u001b[39m\u001b[38;5;124m\"\u001b[39m, \u001b[38;5;124m\"\u001b[39m\u001b[38;5;124mbanana\u001b[39m\u001b[38;5;124m\"\u001b[39m, \u001b[38;5;124m\"\u001b[39m\u001b[38;5;124mcherry\u001b[39m\u001b[38;5;124m\"\u001b[39m)\n\u001b[1;32m      4\u001b[0m \u001b[38;5;28;01mdel\u001b[39;00m thistuple\n\u001b[0;32m----> 5\u001b[0m \u001b[38;5;28mprint\u001b[39m(\u001b[43mthistuple\u001b[49m) \u001b[38;5;66;03m#this will raise an error because the tuple no longer exists\u001b[39;00m\n",
      "\u001b[0;31mNameError\u001b[0m: name 'thistuple' is not defined"
     ]
    }
   ],
   "source": [
    "#19. Delete a tuple.\n",
    "# Step 1: Create a tuple\n",
    "thistuple = (\"apple\", \"banana\", \"cherry\")\n",
    "del thistuple\n",
    "print(thistuple) #this will raise an error because the tuple no longer exists"
   ]
  },
  {
   "cell_type": "code",
   "execution_count": 25,
   "id": "b9bc1a51-3896-4cb3-bc85-2d543e18fffe",
   "metadata": {},
   "outputs": [
    {
     "name": "stdout",
     "output_type": "stream",
     "text": [
      "Sliced tuple: (3, 4, 5, 6)\n"
     ]
    }
   ],
   "source": [
    "#20. Slice a tuple.\n",
    "# Step 1: Create a tuple\n",
    "my_tuple = (1, 2, 3, 4, 5, 6, 7, 8, 9, 10)\n",
    "\n",
    "# Step 2: Slice the tuple to get a portion of it\n",
    "sliced_tuple = my_tuple[2:6]  # Elements from index 2 to 5 (end index is exclusive)\n",
    "\n",
    "# Step 3: Print the sliced tuple\n",
    "print(\"Sliced tuple:\", sliced_tuple)"
   ]
  },
  {
   "cell_type": "code",
   "execution_count": 26,
   "id": "fc9f2e1a-1450-4c72-8939-d2c72083e6c2",
   "metadata": {},
   "outputs": [
    {
     "name": "stdout",
     "output_type": "stream",
     "text": [
      "Maximum value: 45\n"
     ]
    }
   ],
   "source": [
    "#21. Find the maximum value in a tuple.\n",
    "# Step 1: Create a tuple\n",
    "my_tuple = (10, 20, 5, 45, 30)\n",
    "\n",
    "# Step 2: Find the maximum value in the tuple using the 'max()' function\n",
    "max_value = max(my_tuple)\n",
    "\n",
    "# Step 3: Print the maximum value\n",
    "print(\"Maximum value:\", max_value)"
   ]
  },
  {
   "cell_type": "code",
   "execution_count": 27,
   "id": "4eab7bb5-c3d6-4833-b223-3c5112e0ecb4",
   "metadata": {},
   "outputs": [
    {
     "name": "stdout",
     "output_type": "stream",
     "text": [
      "Minimum value: 5\n"
     ]
    }
   ],
   "source": [
    "#22. Find the minimum value in a tuple.\n",
    "# Step 1: Create a tuple\n",
    "my_tuple = (10, 20, 5, 45, 30)\n",
    "\n",
    "# Step 2: Find the minimum value in the tuple using the 'min()' function\n",
    "min_value = min(my_tuple)\n",
    "\n",
    "# Step 3: Print the minimum value\n",
    "print(\"Minimum value:\", min_value)"
   ]
  },
  {
   "cell_type": "code",
   "execution_count": 28,
   "id": "9ac4877b-8968-4991-adf9-4913879ac0f9",
   "metadata": {},
   "outputs": [
    {
     "name": "stdout",
     "output_type": "stream",
     "text": [
      "Tuple of characters: ('H', 'e', 'l', 'l', 'o', ',', ' ', 'W', 'o', 'r', 'l', 'd', '!')\n"
     ]
    }
   ],
   "source": [
    "#23. Convert a string to a tuple of characters.\n",
    "# Step 1: Create a string\n",
    "my_string = \"Hello, World!\"\n",
    "\n",
    "# Step 2: Convert the string to a tuple of characters\n",
    "tuple_of_characters = tuple(my_string)\n",
    "\n",
    "# Step 3: Print the tuple of characters\n",
    "print(\"Tuple of characters:\", tuple_of_characters)"
   ]
  },
  {
   "cell_type": "code",
   "execution_count": 29,
   "id": "9871ec5a-96cf-4f5e-8827-3d9e6ae9c1e4",
   "metadata": {},
   "outputs": [
    {
     "name": "stdout",
     "output_type": "stream",
     "text": [
      "String from tuple: Hello World!\n"
     ]
    }
   ],
   "source": [
    "#24. Convert a tuple of characters to a string.\n",
    "# Step 1: Create a tuple of characters\n",
    "tuple_of_characters = ('H', 'e', 'l', 'l', 'o', ' ', 'W', 'o', 'r', 'l', 'd', '!')\n",
    "\n",
    "# Step 2: Convert the tuple of characters to a string using the 'join()' method\n",
    "string_from_tuple = ''.join(tuple_of_characters)\n",
    "\n",
    "# Step 3: Print the resulting string\n",
    "print(\"String from tuple:\", string_from_tuple)"
   ]
  },
  {
   "cell_type": "code",
   "execution_count": 30,
   "id": "c1ea60dc-f0f2-429e-9e89-c64b92eb3566",
   "metadata": {},
   "outputs": [
    {
     "name": "stdout",
     "output_type": "stream",
     "text": [
      "(1, 'hello', 3.14, True)\n"
     ]
    }
   ],
   "source": [
    "#25. Create a tuple from multiple data types.\n",
    "# Creating a tuple with elements of different data types\n",
    "mixed_tuple = (1, \"hello\", 3.14, True)\n",
    "\n",
    "# Printing the tuple\n",
    "print(mixed_tuple)"
   ]
  },
  {
   "cell_type": "code",
   "execution_count": 31,
   "id": "b4f11e96-7b62-46c3-9a50-483e91f86e1b",
   "metadata": {},
   "outputs": [
    {
     "name": "stdout",
     "output_type": "stream",
     "text": [
      "tuple1 and tuple2 are identical: True\n",
      "tuple1 and tuple3 are identical: False\n"
     ]
    }
   ],
   "source": [
    "#26. Check if two tuples are identical.\n",
    "# Step 1: Create two tuples\n",
    "tuple1 = (1, 2, 3)\n",
    "tuple2 = (1, 2, 3)\n",
    "tuple3 = (4, 5, 6)\n",
    "\n",
    "# Step 2: Compare the tuples for identity using the equality operator\n",
    "are_identical1 = tuple1 == tuple2\n",
    "are_identical2 = tuple1 == tuple3\n",
    "\n",
    "# Step 3: Print the results\n",
    "print(\"tuple1 and tuple2 are identical:\", are_identical1)\n",
    "print(\"tuple1 and tuple3 are identical:\", are_identical2)"
   ]
  },
  {
   "cell_type": "code",
   "execution_count": 32,
   "id": "a4e4ebe4-85c7-49b1-9c3d-2fd6ed498002",
   "metadata": {},
   "outputs": [
    {
     "name": "stdout",
     "output_type": "stream",
     "text": [
      "Sorted tuple: (1, 2, 3, 5, 8)\n"
     ]
    }
   ],
   "source": [
    "#27. Sort the elements of a tuple.\n",
    "# Step 1: Create a tuple\n",
    "my_tuple = (5, 2, 8, 1, 3)\n",
    "\n",
    "# Step 2: Convert the tuple to a list, sort the list, and convert it back to a tuple\n",
    "sorted_tuple = tuple(sorted(my_tuple))\n",
    "\n",
    "# Step 3: Print the sorted tuple\n",
    "print(\"Sorted tuple:\", sorted_tuple)\n"
   ]
  },
  {
   "cell_type": "code",
   "execution_count": 33,
   "id": "f2c0da7e-caae-4c96-99fb-571b0163133e",
   "metadata": {},
   "outputs": [
    {
     "name": "stdout",
     "output_type": "stream",
     "text": [
      "Tuple of strings: ('1', '2', '3', '4', '5')\n"
     ]
    }
   ],
   "source": [
    "#28. Convert a tuple of integers to a tuple of strings.\n",
    "# Step 1: Create a tuple of integers\n",
    "tuple_of_integers = (1, 2, 3, 4, 5)\n",
    "\n",
    "# Step 2: Convert the tuple of integers to a tuple of strings using a list comprehension\n",
    "tuple_of_strings = tuple(str(item) for item in tuple_of_integers)\n",
    "\n",
    "# Step 3: Print the tuple of strings\n",
    "print(\"Tuple of strings:\", tuple_of_strings)"
   ]
  },
  {
   "cell_type": "code",
   "execution_count": 34,
   "id": "ad1e5b60-7bd8-4c75-900b-acbc68d0169b",
   "metadata": {},
   "outputs": [
    {
     "name": "stdout",
     "output_type": "stream",
     "text": [
      "Tuple of integers: (10, 20, 30, 40, 50)\n"
     ]
    }
   ],
   "source": [
    "#29. Convert a tuple of strings to a tuple of integers.\n",
    "# Step 1: Create a tuple of strings\n",
    "tuple_of_strings = ('10', '20', '30', '40', '50')\n",
    "\n",
    "# Step 2: Convert the tuple of strings to a tuple of integers using a list comprehension\n",
    "tuple_of_integers = tuple(int(item) for item in tuple_of_strings)\n",
    "\n",
    "# Step 3: Print the tuple of integers\n",
    "print(\"Tuple of integers:\", tuple_of_integers)"
   ]
  },
  {
   "cell_type": "code",
   "execution_count": 35,
   "id": "d67a1662-32cd-4aa9-a2f6-3385d49e9735",
   "metadata": {},
   "outputs": [
    {
     "name": "stdout",
     "output_type": "stream",
     "text": [
      "Merged tuple: (1, 2, 3, 4, 5, 6)\n"
     ]
    }
   ],
   "source": [
    "#30. Merge two tuples.\n",
    "# Step 1: Create two tuples\n",
    "tuple1 = (1, 2, 3)\n",
    "tuple2 = (4, 5, 6)\n",
    "\n",
    "# Step 2: Merge the two tuples using the '+' operator\n",
    "merged_tuple = tuple1 + tuple2\n",
    "\n",
    "# Step 3: Print the merged tuple\n",
    "print(\"Merged tuple:\", merged_tuple)"
   ]
  },
  {
   "cell_type": "code",
   "execution_count": 36,
   "id": "fac8cc4d-ec7a-44bc-bca4-ed0475a9ecfa",
   "metadata": {},
   "outputs": [
    {
     "name": "stdout",
     "output_type": "stream",
     "text": [
      "Flattened tuple: (1, 2, 3, 4, 5, 6, 7, 8)\n"
     ]
    }
   ],
   "source": [
    "#31. Flatten a nested tuple.\n",
    "# Recursive function to flatten a nested tuple\n",
    "def flatten_tuple(nested_tuple):\n",
    "    flattened = []\n",
    "    for item in nested_tuple:\n",
    "        if isinstance(item, tuple):\n",
    "            flattened.extend(flatten_tuple(item))\n",
    "        else:\n",
    "            flattened.append(item)\n",
    "    return flattened\n",
    "\n",
    "# Step 1: Create a nested tuple\n",
    "nested_tuple = ((1, 2), (3, 4, 5), (6, (7, 8)))\n",
    "\n",
    "# Step 2: Flatten the nested tuple\n",
    "flattened_tuple = tuple(flatten_tuple(nested_tuple))\n",
    "\n",
    "# Step 3: Print the flattened tuple\n",
    "print(\"Flattened tuple:\", flattened_tuple)"
   ]
  },
  {
   "cell_type": "code",
   "execution_count": 37,
   "id": "408a81e8-96dc-49c0-b86a-5adfa5c8dd56",
   "metadata": {},
   "outputs": [
    {
     "name": "stdout",
     "output_type": "stream",
     "text": [
      "Tuple of the first 5 prime numbers: (2, 3, 5, 7, 11)\n"
     ]
    }
   ],
   "source": [
    "# 32. Create a tuple of the first 5 prime numbers\n",
    "# Function to check if a number is prime\n",
    "def is_prime(num):\n",
    "    if num <= 1:\n",
    "        return False\n",
    "    for i in range(2, int(num ** 0.5) + 1):\n",
    "        if num % i == 0:\n",
    "            return False\n",
    "    return True\n",
    "\n",
    "# Generate the first 5 prime numbers\n",
    "prime_numbers_list = [num for num in range(2, 100) if is_prime(num)][:5]\n",
    "\n",
    "# Convert the list to a tuple\n",
    "prime_numbers_tuple = tuple(prime_numbers_list)\n",
    "\n",
    "# Print the tuple of prime numbers\n",
    "print(\"Tuple of the first 5 prime numbers:\", prime_numbers_tuple)"
   ]
  },
  {
   "cell_type": "code",
   "execution_count": 38,
   "id": "bbbcb506-8065-46b1-ad56-8356424594fa",
   "metadata": {},
   "outputs": [
    {
     "name": "stdout",
     "output_type": "stream",
     "text": [
      "palindrome_tuple is a palindrome: True\n",
      "non_palindrome_tuple is a palindrome: False\n"
     ]
    }
   ],
   "source": [
    "#33. Check if a tuple is a palindrome.\n",
    "# Function to check if a tuple is a palindrome\n",
    "def is_palindrome(tup):\n",
    "    return tup == tup[::-1]\n",
    "\n",
    "# Create tuples for testing\n",
    "palindrome_tuple = (1, 2, 3, 2, 1)\n",
    "non_palindrome_tuple = (1, 2, 3, 4, 5)\n",
    "\n",
    "# Check if the tuples are palindromes\n",
    "is_palindrome1 = is_palindrome(palindrome_tuple)\n",
    "is_palindrome2 = is_palindrome(non_palindrome_tuple)\n",
    "\n",
    "# Print the results\n",
    "print(\"palindrome_tuple is a palindrome:\", is_palindrome1)\n",
    "print(\"non_palindrome_tuple is a palindrome:\", is_palindrome2)"
   ]
  },
  {
   "cell_type": "code",
   "execution_count": 39,
   "id": "fac4ccda-3ab6-4116-9028-1472b7ecc7ae",
   "metadata": {},
   "outputs": [
    {
     "name": "stdout",
     "output_type": "stream",
     "text": [
      "Tuple of squares: (1, 4, 9, 16, 25)\n"
     ]
    }
   ],
   "source": [
    "#34. Create a tuple of squares of numbers from 1 to 5.\n",
    "# Create a tuple of squares using a list comprehension\n",
    "squares_tuple = tuple(x ** 2 for x in range(1, 6))\n",
    "\n",
    "# Print the tuple of squares\n",
    "print(\"Tuple of squares:\", squares_tuple)"
   ]
  },
  {
   "cell_type": "code",
   "execution_count": 40,
   "id": "29e1d137-1351-4217-95a4-5c6529073879",
   "metadata": {},
   "outputs": [
    {
     "name": "stdout",
     "output_type": "stream",
     "text": [
      "Filtered tuple: (1, 3, 5, 7, 9)\n"
     ]
    }
   ],
   "source": [
    "#35. Filter out all even numbers from a tuple.\n",
    "# Create a tuple\n",
    "original_tuple = (1, 2, 3, 4, 5, 6, 7, 8, 9, 10)\n",
    "\n",
    "# Filter out even numbers using a list comprehension\n",
    "filtered_tuple = tuple(num for num in original_tuple if num % 2 != 0)\n",
    "\n",
    "# Print the filtered tuple\n",
    "print(\"Filtered tuple:\", filtered_tuple)"
   ]
  },
  {
   "cell_type": "code",
   "execution_count": 1,
   "id": "b936b0b1-3fa4-43de-b028-fd118a718939",
   "metadata": {},
   "outputs": [
    {
     "name": "stdout",
     "output_type": "stream",
     "text": [
      "Doubled tuple: (2, 4, 6, 8, 10)\n"
     ]
    }
   ],
   "source": [
    "#36. Multiply all elements in a tuple by 2.\n",
    "# Create a tuple\n",
    "original_tuple = (1, 2, 3, 4, 5)\n",
    "\n",
    "# Multiply all elements by 2 using a list comprehension and convert to a tuple\n",
    "doubled_tuple = tuple(num * 2 for num in original_tuple)\n",
    "\n",
    "# Print the doubled tuple\n",
    "print(\"Doubled tuple:\", doubled_tuple)"
   ]
  },
  {
   "cell_type": "code",
   "execution_count": 2,
   "id": "f27383d8-d4d2-4f08-93db-c938c51ac7ef",
   "metadata": {},
   "outputs": [
    {
     "name": "stdout",
     "output_type": "stream",
     "text": [
      "Random tuple: (54, 94, 18, 19, 2, 73, 59, 35, 50, 4)\n"
     ]
    }
   ],
   "source": [
    "#37. Create a tuple of random numbers.\n",
    "import random\n",
    "\n",
    "# Create a tuple of random numbers using a list comprehension\n",
    "random_tuple = tuple(random.randint(1, 100) for _ in range(10))  # Generating 10 random numbers between 1 and 100\n",
    "\n",
    "# Print the tuple of random numbers\n",
    "print(\"Random tuple:\", random_tuple)"
   ]
  },
  {
   "cell_type": "code",
   "execution_count": 3,
   "id": "2f1b34fd-09af-46d6-8c90-7e8f64cc289d",
   "metadata": {},
   "outputs": [
    {
     "name": "stdout",
     "output_type": "stream",
     "text": [
      "sorted_tuple is sorted: True\n",
      "unsorted_tuple is sorted: False\n"
     ]
    }
   ],
   "source": [
    "#38. Check if a tuple is sorted.\n",
    "# Function to check if a tuple is sorted\n",
    "def is_sorted(tup):\n",
    "    for i in range(len(tup) - 1):\n",
    "        if tup[i] > tup[i + 1]:\n",
    "            return False\n",
    "    return True\n",
    "\n",
    "# Create tuples for testing\n",
    "sorted_tuple = (1, 2, 3, 4, 5)\n",
    "unsorted_tuple = (5, 3, 1, 4, 2)\n",
    "\n",
    "# Check if the tuples are sorted\n",
    "is_sorted1 = is_sorted(sorted_tuple)\n",
    "is_sorted2 = is_sorted(unsorted_tuple)\n",
    "\n",
    "# Print the results\n",
    "print(\"sorted_tuple is sorted:\", is_sorted1)\n",
    "print(\"unsorted_tuple is sorted:\", is_sorted2)"
   ]
  },
  {
   "cell_type": "code",
   "execution_count": 4,
   "id": "54a2f191-275e-4682-8c0b-fa3de27d244e",
   "metadata": {},
   "outputs": [
    {
     "name": "stdout",
     "output_type": "stream",
     "text": [
      "(3, 4, 5, 1, 2)\n"
     ]
    }
   ],
   "source": [
    "#39. Rotate a tuple to the left by n positions.\n",
    "def rotate_tuple_left(tup, n):\n",
    "    n = n % len(tup)  # Ensure n is within the range of tuple length\n",
    "    rotated_tuple = tup[n:] + tup[:n]  # Rotate the tuple\n",
    "    return rotated_tuple\n",
    "\n",
    "# Example tuple\n",
    "my_tuple = (1, 2, 3, 4, 5)\n",
    "n_positions = 2\n",
    "result = rotate_tuple_left(my_tuple, n_positions)\n",
    "print(result)"
   ]
  },
  {
   "cell_type": "code",
   "execution_count": 5,
   "id": "44021371-4a2a-47fb-8c94-2a6209e1bf06",
   "metadata": {},
   "outputs": [
    {
     "name": "stdout",
     "output_type": "stream",
     "text": [
      "(4, 5, 1, 2, 3)\n"
     ]
    }
   ],
   "source": [
    "#40. Rotate a tuple to the right by n positions.\n",
    "def rotate_tuple_right(tup, n):\n",
    "    n = n % len(tup)  # Ensure n is within the range of tuple length\n",
    "    rotated_tuple = tup[-n:] + tup[:-n]  # Rotate the tuple\n",
    "    return rotated_tuple\n",
    "\n",
    "# Example tuple\n",
    "my_tuple = (1, 2, 3, 4, 5)\n",
    "n_positions = 2\n",
    "result = rotate_tuple_right(my_tuple, n_positions)\n",
    "print(result)"
   ]
  },
  {
   "cell_type": "code",
   "execution_count": 6,
   "id": "df40a1a5-f7d2-4a8b-bd97-47a94bc3506d",
   "metadata": {},
   "outputs": [
    {
     "name": "stdout",
     "output_type": "stream",
     "text": [
      "(0, 1, 1, 2, 3)\n"
     ]
    }
   ],
   "source": [
    "#41. Create a tuple of the first 5 Fibonacci numbers.\n",
    "# Define a function to generate the first n Fibonacci numbers\n",
    "def generate_fibonacci(n):\n",
    "    fibonacci = [0, 1]  # Initialize the list with the first two Fibonacci numbers\n",
    "    while len(fibonacci) < n:  # Continue generating Fibonacci numbers until the list has n elements\n",
    "        next_number = fibonacci[-1] + fibonacci[-2]  # Calculate the next Fibonacci number\n",
    "        fibonacci.append(next_number)  # Add the next Fibonacci number to the list\n",
    "    return tuple(fibonacci)  # Convert the list to a tuple and return it\n",
    "\n",
    "# Call the generate_fibonacci function to create a tuple of the first 5 Fibonacci numbers\n",
    "fibonacci_tuple = generate_fibonacci(5)\n",
    "\n",
    "# Print the resulting tuple\n",
    "print(fibonacci_tuple)"
   ]
  },
  {
   "cell_type": "code",
   "execution_count": 7,
   "id": "bf76541e-9bd0-4810-bd1e-2579fdebd228",
   "metadata": {},
   "outputs": [
    {
     "name": "stdin",
     "output_type": "stream",
     "text": [
      "Enter elements separated by commas:  v,i,n,i,t,a\n"
     ]
    },
    {
     "name": "stdout",
     "output_type": "stream",
     "text": [
      "User input tuple: ('v', 'i', 'n', 'i', 't', 'a')\n"
     ]
    }
   ],
   "source": [
    "#42. Create a tuple from user input.\n",
    "# Taking user input for creating a tuple\n",
    "input_str = input(\"Enter elements separated by commas: \")\n",
    "\n",
    "# Splitting the input string into a list of strings\n",
    "input_list = input_str.split(',')\n",
    "\n",
    "# Converting the list of strings to a tuple\n",
    "user_tuple = tuple(input_list)\n",
    "\n",
    "# Printing the created tuple\n",
    "print(\"User input tuple:\", user_tuple)"
   ]
  },
  {
   "cell_type": "code",
   "execution_count": 8,
   "id": "0c3027a9-3d25-435a-8615-650b1678f89d",
   "metadata": {},
   "outputs": [
    {
     "name": "stdout",
     "output_type": "stream",
     "text": [
      "Swapped tuple: (1, 4, 3, 2, 5)\n"
     ]
    }
   ],
   "source": [
    "#43. Swap two elements in a tuple.\n",
    "# Create a tuple\n",
    "my_tuple = (1, 2, 3, 4, 5)\n",
    "\n",
    "# Swap elements at indices 1 and 3\n",
    "index1 = 1\n",
    "index2 = 3\n",
    "swapped_tuple = tuple(\n",
    "    my_tuple[i] if i not in (index1, index2) else\n",
    "    my_tuple[index2] if i == index1 else\n",
    "    my_tuple[index1]\n",
    "    for i in range(len(my_tuple))\n",
    ")\n",
    "\n",
    "# Print the swapped tuple\n",
    "print(\"Swapped tuple:\", swapped_tuple)"
   ]
  },
  {
   "cell_type": "code",
   "execution_count": 9,
   "id": "b8e8f9fe-51af-4da4-a2c4-d99434c6e41f",
   "metadata": {},
   "outputs": [
    {
     "name": "stdout",
     "output_type": "stream",
     "text": [
      "Reversed tuple: (5, 4, 3, 2, 1)\n"
     ]
    }
   ],
   "source": [
    "#44. Reverse the elements of a tuple.\n",
    "# Create a tuple\n",
    "my_tuple = (1, 2, 3, 4, 5)\n",
    "\n",
    "# Reverse the elements using slicing\n",
    "reversed_tuple = my_tuple[::-1]\n",
    "\n",
    "# Print the reversed tuple\n",
    "print(\"Reversed tuple:\", reversed_tuple)"
   ]
  },
  {
   "cell_type": "code",
   "execution_count": 10,
   "id": "f35feaf8-0cb3-47c0-9bd6-f9a2690994a3",
   "metadata": {},
   "outputs": [
    {
     "name": "stdout",
     "output_type": "stream",
     "text": [
      "Tuple of the first 5 powers of 2: (1, 2, 4, 8, 16)\n"
     ]
    }
   ],
   "source": [
    "#45. Create a tuple of the first n powers of 2.\n",
    "# Define the value of n\n",
    "n = 5\n",
    "\n",
    "# Create a tuple of the first n powers of 2 using a list comprehension\n",
    "powers_of_2_tuple = tuple(2 ** i for i in range(n))\n",
    "\n",
    "# Print the tuple of powers of 2\n",
    "print(\"Tuple of the first\", n, \"powers of 2:\", powers_of_2_tuple)"
   ]
  },
  {
   "cell_type": "code",
   "execution_count": 11,
   "id": "96794c3f-9871-4eb9-87c4-a2b099ec8d0e",
   "metadata": {},
   "outputs": [
    {
     "name": "stdout",
     "output_type": "stream",
     "text": [
      "Longest string: watermelon\n"
     ]
    }
   ],
   "source": [
    "#46. Find the longest string in a tuple of strings.\n",
    "# Create a tuple of strings\n",
    "string_tuple = (\"apple\", \"banana\", \"grape\", \"kiwi\", \"watermelon\")\n",
    "\n",
    "# Find the longest string in the tuple\n",
    "longest_string = max(string_tuple, key=len)\n",
    "\n",
    "# Print the longest string\n",
    "print(\"Longest string:\", longest_string)"
   ]
  },
  {
   "cell_type": "code",
   "execution_count": 12,
   "id": "e3e9b4b9-c82f-4bf1-b940-aca932a84ece",
   "metadata": {},
   "outputs": [
    {
     "name": "stdout",
     "output_type": "stream",
     "text": [
      "Shortest string: kiwi\n"
     ]
    }
   ],
   "source": [
    "#47. Find the shortest string in a tuple of strings.\n",
    "# Create a tuple of strings\n",
    "string_tuple = (\"apple\", \"banana\", \"grape\", \"kiwi\", \"watermelon\")\n",
    "\n",
    "# Find the shortest string in the tuple\n",
    "shortest_string = min(string_tuple, key=len)\n",
    "\n",
    "# Print the shortest string\n",
    "print(\"Shortest string:\", shortest_string)"
   ]
  },
  {
   "cell_type": "code",
   "execution_count": 13,
   "id": "04cce2bf-8ca2-4735-9beb-b7d8faa4c296",
   "metadata": {},
   "outputs": [
    {
     "name": "stdout",
     "output_type": "stream",
     "text": [
      "Tuple of the first 5 triangular numbers: (1, 3, 6, 10, 15)\n"
     ]
    }
   ],
   "source": [
    "#48. Create a tuple of the first n triangular numbers.\n",
    "# Define the value of n\n",
    "n = 5\n",
    "\n",
    "# Create a tuple of the first n triangular numbers using a list comprehension\n",
    "triangular_numbers_tuple = tuple((i * (i + 1)) // 2 for i in range(1, n + 1))\n",
    "\n",
    "# Print the tuple of triangular numbers\n",
    "print(\"Tuple of the first\", n, \"triangular numbers:\", triangular_numbers_tuple)"
   ]
  },
  {
   "cell_type": "code",
   "execution_count": 14,
   "id": "654ed3e4-a8ee-43a2-be81-cdb1dfbc7266",
   "metadata": {},
   "outputs": [
    {
     "name": "stdout",
     "output_type": "stream",
     "text": [
      "Main tuple contains subsequence tuple: True\n"
     ]
    }
   ],
   "source": [
    "#49. Check if a tuple contains another tuple as a subsequence.\n",
    "# Function to check if a tuple contains another tuple as a subsequence\n",
    "def contains_subsequence(main_tuple, sub_tuple):\n",
    "    sub_length = len(sub_tuple)\n",
    "    for i in range(len(main_tuple) - sub_length + 1):\n",
    "        if main_tuple[i:i+sub_length] == sub_tuple:\n",
    "            return True\n",
    "    return False\n",
    "\n",
    "# Main tuple\n",
    "main_tuple = (1, 2, 3, 4, 5, 6, 7, 8, 9)\n",
    "\n",
    "# Subsequence tuple\n",
    "sub_tuple = (3, 4, 5)\n",
    "\n",
    "# Check if the main tuple contains the subsequence tuple\n",
    "contains_subseq = contains_subsequence(main_tuple, sub_tuple)\n",
    "\n",
    "# Print the result\n",
    "print(\"Main tuple contains subsequence tuple:\", contains_subseq)"
   ]
  },
  {
   "cell_type": "code",
   "execution_count": 15,
   "id": "e8c87bc7-3f23-4af9-8dce-b5f36c76e970",
   "metadata": {},
   "outputs": [
    {
     "name": "stdout",
     "output_type": "stream",
     "text": [
      "Tuple of alternating 1s and 0s: (0, 1, 0, 1, 0, 1, 0, 1, 0, 1)\n"
     ]
    }
   ],
   "source": [
    "#50. Create a tuple of alternating 1s and 0s of length n.\n",
    "# Define the value of n\n",
    "n = 10\n",
    "\n",
    "# Create a tuple of alternating 1s and 0s using a list comprehension\n",
    "alternating_tuple = tuple(i % 2 for i in range(n))\n",
    "\n",
    "# Print the tuple of alternating 1s and 0s\n",
    "print(\"Tuple of alternating 1s and 0s:\", alternating_tuple)"
   ]
  },
  {
   "cell_type": "code",
   "execution_count": 16,
   "id": "a1727787-b340-427f-bcad-fa4c4e0577ab",
   "metadata": {},
   "outputs": [
    {
     "name": "stdout",
     "output_type": "stream",
     "text": [
      "{1, 2, 3, 4, 5}\n"
     ]
    }
   ],
   "source": [
    "#set\n",
    "#1. Create a set with integers from 1 to 5\n",
    "# Step 1: Create an empty set\n",
    "my_set = set()\n",
    "\n",
    "# Step 2: Add integers from 1 to 5 to the set\n",
    "my_set.add(1)\n",
    "my_set.add(2)\n",
    "my_set.add(3)\n",
    "my_set.add(4)\n",
    "my_set.add(5)\n",
    "\n",
    "# Step 3: Print the final set\n",
    "print(my_set)## Set based problems:"
   ]
  },
  {
   "cell_type": "code",
   "execution_count": 17,
   "id": "ac9656d0-4aab-46f6-92dc-40215adb6a64",
   "metadata": {},
   "outputs": [
    {
     "name": "stdout",
     "output_type": "stream",
     "text": [
      "Original set: {1, 2, 3, 4, 5}\n",
      "Set after adding element: {1, 2, 3, 4, 5, 6}\n"
     ]
    }
   ],
   "source": [
    "#2. Add an element to a set\n",
    "# Step 1: Create a set\n",
    "my_set = {1, 2, 3, 4, 5}\n",
    "\n",
    "# Step 2: Display the original set\n",
    "print(\"Original set:\", my_set)\n",
    "\n",
    "# Step 3: Add an element to the set\n",
    "element_to_add = 6\n",
    "my_set.add(element_to_add)\n",
    "\n",
    "# Step 4: Display the modified set\n",
    "print(\"Set after adding element:\", my_set)"
   ]
  },
  {
   "cell_type": "code",
   "execution_count": 18,
   "id": "e448aed5-063d-4554-a47f-d2785ab8c45b",
   "metadata": {},
   "outputs": [
    {
     "name": "stdout",
     "output_type": "stream",
     "text": [
      "Original Set: {1, 2, 3, 4, 5}\n",
      "Set after removing 3 : {1, 2, 4, 5}\n"
     ]
    }
   ],
   "source": [
    "#3. Remove an element from a set.\n",
    "# Step 1: Create a set with some elements\n",
    "my_set = {1, 2, 3, 4, 5}\n",
    "\n",
    "# Step 2: Print the original set\n",
    "print(\"Original Set:\", my_set)\n",
    "\n",
    "# Step 3: Choose an element to remove\n",
    "element_to_remove = 3\n",
    "\n",
    "# Step 4: Use the remove() method to remove the chosen element\n",
    "# Note: If the element is not present in the set, remove() raises a KeyError.\n",
    "my_set.remove(element_to_remove)\n",
    "\n",
    "# Step 5: Print the modified set after removal\n",
    "print(\"Set after removing\", element_to_remove, \":\", my_set)"
   ]
  },
  {
   "cell_type": "code",
   "execution_count": 20,
   "id": "8a5d34dd-9b13-4110-82d8-34ff8b2b372c",
   "metadata": {},
   "outputs": [
    {
     "name": "stdin",
     "output_type": "stream",
     "text": [
      "Enter the element to check:  9\n"
     ]
    },
    {
     "name": "stdout",
     "output_type": "stream",
     "text": [
      "9 exists in the set.\n"
     ]
    }
   ],
   "source": [
    "#4. Check if an element exists in a set.\n",
    "# Step 1: Create a set with some elements\n",
    "my_set = {1, 3, 5, 7, 9}\n",
    "\n",
    "# Step 2: Ask the user for the element they want to check\n",
    "element_to_check = int(input(\"Enter the element to check: \"))\n",
    "\n",
    "# Step 3: Use the \"in\" keyword to check if the element exists in the set\n",
    "if element_to_check in my_set:\n",
    "    # Step 4: If the element exists in the set, print a message\n",
    "    print(f\"{element_to_check} exists in the set.\")\n",
    "else:\n",
    "    # Step 5: If the element does not exist in the set, print a message\n",
    "    print(f\"{element_to_check} does not exist in the set.\")"
   ]
  },
  {
   "cell_type": "code",
   "execution_count": 21,
   "id": "579ea5ea-6686-4f48-b1e7-91992385b7bd",
   "metadata": {},
   "outputs": [
    {
     "name": "stdout",
     "output_type": "stream",
     "text": [
      "Length of the set: 5\n"
     ]
    }
   ],
   "source": [
    "#5. Find the length of a set without using the len() function\n",
    "# Create a set with some elements\n",
    "my_set = {1, 2, 3, 4, 5}\n",
    "\n",
    "# Initialize a variable to count the elements in the set\n",
    "count = 0\n",
    "\n",
    "# Iterate through each element in the set\n",
    "for _ in my_set:\n",
    "    # Increase the count by 1 for each element\n",
    "    count += 1\n",
    "\n",
    "# Print the count, which is the length of the set\n",
    "print(\"Length of the set:\", count)"
   ]
  },
  {
   "cell_type": "code",
   "execution_count": 22,
   "id": "0e9add97-f312-4b2b-923b-a022c6a4313d",
   "metadata": {},
   "outputs": [
    {
     "name": "stdout",
     "output_type": "stream",
     "text": [
      "Original set: {1, 2, 3, 4, 5}\n",
      "Set after clearing: set()\n"
     ]
    }
   ],
   "source": [
    "#6. Clear all elements from a set.\n",
    "# Step 1: Create a set with some elements\n",
    "my_set = {1, 2, 3, 4, 5}\n",
    "\n",
    "# Step 2: Display the original set\n",
    "print(\"Original set:\", my_set)\n",
    "\n",
    "# Step 3: Clear all elements from the set using the clear() method\n",
    "my_set.clear()\n",
    "\n",
    "# Step 4: Display the set after clearing\n",
    "print(\"Set after clearing:\", my_set)\n"
   ]
  },
  {
   "cell_type": "code",
   "execution_count": 24,
   "id": "6fd33f26-4424-48a5-861c-5916f71035b8",
   "metadata": {},
   "outputs": [
    {
     "name": "stdout",
     "output_type": "stream",
     "text": [
      "{2, 4, 6, 8, 10}\n"
     ]
    }
   ],
   "source": [
    "#7.Create a set of even numbers from 1 to 10\n",
    "# Step 1: Initialize an empty set\n",
    "even_numbers_set = set()\n",
    "\n",
    "# Step 2: Iterate through numbers from 1 to 10\n",
    "for num in range(1, 11):\n",
    "    # Step 3: Check if the number is even\n",
    "    if num % 2 == 0:\n",
    "        # Step 4: Add the even number to the set\n",
    "        even_numbers_set.add(num)\n",
    "\n",
    "# Step 5: Print the set of even numbers\n",
    "print(even_numbers_set)"
   ]
  },
  {
   "cell_type": "code",
   "execution_count": 25,
   "id": "870a8962-792d-45a9-9f92-3fb2a9591286",
   "metadata": {},
   "outputs": [
    {
     "name": "stdout",
     "output_type": "stream",
     "text": [
      "{1, 3, 5, 7, 9}\n"
     ]
    }
   ],
   "source": [
    "#8. Create a set of odd numbers from 1 to 10\n",
    "# Step 1: Initialize an empty set to store odd numbers.\n",
    "odd_numbers_set = set()\n",
    "\n",
    "# Step 2: Iterate through numbers from 1 to 10.\n",
    "for num in range(1, 11):\n",
    "    # Step 3: Check if the current number is odd.\n",
    "    if num % 2 != 0:\n",
    "        # Step 4: If the number is odd, add it to the set.\n",
    "        odd_numbers_set.add(num)\n",
    "\n",
    "# Step 5: Print the final set of odd numbers.\n",
    "print(odd_numbers_set)"
   ]
  },
  {
   "cell_type": "code",
   "execution_count": 26,
   "id": "cae67e79-2e99-4d5a-b9a1-dd3e4ec552fa",
   "metadata": {},
   "outputs": [
    {
     "name": "stdout",
     "output_type": "stream",
     "text": [
      "Set 1: {1, 2, 3, 4, 5}\n",
      "Set 2: {4, 5, 6, 7, 8}\n",
      "Union of Set 1 and Set 2: {1, 2, 3, 4, 5, 6, 7, 8}\n"
     ]
    }
   ],
   "source": [
    "#9. Find the union of two sets\n",
    "# Define two sets\n",
    "set1 = {1, 2, 3, 4, 5}\n",
    "set2 = {4, 5, 6, 7, 8}\n",
    "\n",
    "# Find the union of the two sets using the `union()` method\n",
    "union_result = set1.union(set2)\n",
    "\n",
    "# Print the original sets and their union\n",
    "print(\"Set 1:\", set1)\n",
    "print(\"Set 2:\", set2)\n",
    "print(\"Union of Set 1 and Set 2:\", union_result)"
   ]
  },
  {
   "cell_type": "code",
   "execution_count": 27,
   "id": "847335b8-38fe-4724-9df6-74748fad07e9",
   "metadata": {},
   "outputs": [
    {
     "name": "stdout",
     "output_type": "stream",
     "text": [
      "Set 1: {1, 2, 3, 4, 5}\n",
      "Set 2: {3, 4, 5, 6, 7}\n",
      "Intersection: {3, 4, 5}\n"
     ]
    }
   ],
   "source": [
    "#10. Find the intersection of two sets\n",
    "# Create two sets\n",
    "set1 = {1, 2, 3, 4, 5}\n",
    "set2 = {3, 4, 5, 6, 7}\n",
    "\n",
    "# Find the intersection using the intersection() method\n",
    "intersection_result = set1.intersection(set2)\n",
    "\n",
    "# Print the original sets and the intersection\n",
    "print(\"Set 1:\", set1)\n",
    "print(\"Set 2:\", set2)\n",
    "print(\"Intersection:\", intersection_result)"
   ]
  },
  {
   "cell_type": "code",
   "execution_count": 28,
   "id": "d34a4823-7c09-4e4e-a705-b92dc2996c96",
   "metadata": {},
   "outputs": [
    {
     "name": "stdout",
     "output_type": "stream",
     "text": [
      "Set 1: {1, 2, 3, 4, 5}\n",
      "Set 2: {3, 4, 5, 6, 7}\n",
      "Difference: {1, 2}\n"
     ]
    }
   ],
   "source": [
    "#11. Find the difference between two sets.\n",
    "# Create two sets\n",
    "set1 = {1, 2, 3, 4, 5}\n",
    "set2 = {3, 4, 5, 6, 7}\n",
    "\n",
    "# Find the difference between the sets using the difference() method\n",
    "difference_set = set1.difference(set2)\n",
    "\n",
    "# Print the original sets and the difference set\n",
    "print(\"Set 1:\", set1)\n",
    "print(\"Set 2:\", set2)\n",
    "print(\"Difference:\", difference_set)"
   ]
  },
  {
   "cell_type": "code",
   "execution_count": 29,
   "id": "a0715064-800c-4fbd-898b-4e94332565c7",
   "metadata": {},
   "outputs": [
    {
     "name": "stdout",
     "output_type": "stream",
     "text": [
      "Is set1 a subset of set2: True\n"
     ]
    }
   ],
   "source": [
    "#12. Check if a set is a subset of another set.\n",
    "# Define the two sets\n",
    "set1 = {1, 2, 3}\n",
    "set2 = {1, 2, 3, 4, 5}\n",
    "\n",
    "# Use the \"issubset()\" method to check if set1 is a subset of set2\n",
    "is_subset = set1.issubset(set2)\n",
    "\n",
    "# Print the result\n",
    "print(\"Is set1 a subset of set2:\", is_subset)"
   ]
  },
  {
   "cell_type": "code",
   "execution_count": 30,
   "id": "65c5486c-0200-489a-84b1-77d8e62fdaea",
   "metadata": {},
   "outputs": [
    {
     "name": "stdout",
     "output_type": "stream",
     "text": [
      "set1 is a superset of set2\n"
     ]
    }
   ],
   "source": [
    "#13. Check if a set is a superset of another set.\n",
    "# Create two sets\n",
    "set1 = {1, 2, 3, 4, 5, 6}\n",
    "set2 = {3, 4}\n",
    "\n",
    "# Check if set1 is a superset of set2\n",
    "is_superset = set1.issuperset(set2)\n",
    "\n",
    "# Print the result\n",
    "if is_superset:\n",
    "    print(\"set1 is a superset of set2\")\n",
    "else:\n",
    "    print(\"set1 is not a superset of set2\")"
   ]
  },
  {
   "cell_type": "code",
   "execution_count": 31,
   "id": "3dd82a0f-f8ea-42ed-b946-50836dce8f86",
   "metadata": {},
   "outputs": [
    {
     "name": "stdout",
     "output_type": "stream",
     "text": [
      "Original List: [2, 4, 1, 4, 3, 2, 5]\n",
      "Set from List: {1, 2, 3, 4, 5}\n"
     ]
    }
   ],
   "source": [
    "#14. Create a set from a list\n",
    "# Step 1: Create a list of elements\n",
    "my_list = [2, 4, 1, 4, 3, 2, 5]\n",
    "\n",
    "# Step 2: Use the set() constructor to convert the list into a set\n",
    "# This automatically removes duplicates and creates a set with unique elements\n",
    "my_set = set(my_list)\n",
    "\n",
    "# Step 3: Print the original list and the resulting set\n",
    "print(\"Original List:\", my_list)\n",
    "print(\"Set from List:\", my_set)"
   ]
  },
  {
   "cell_type": "code",
   "execution_count": 32,
   "id": "05856c12-fcab-4e3b-8b16-0814e3116c60",
   "metadata": {},
   "outputs": [
    {
     "name": "stdout",
     "output_type": "stream",
     "text": [
      "Original Set: {1, 2, 3, 4, 5, 6, 9}\n",
      "Converted List: [1, 2, 3, 4, 5, 6, 9]\n"
     ]
    }
   ],
   "source": [
    "#15. Convert a set to a list.\n",
    "# Step 1: Create a set with some elements\n",
    "my_set = {3, 1, 4, 1, 5, 9, 2, 6, 5}\n",
    "\n",
    "# Step 2: Convert the set to a list using the list() function\n",
    "my_list = list(my_set)\n",
    "\n",
    "# Now, my_list contains the elements from my_set in list format\n",
    "\n",
    "# Step 3: Print the original set and the converted list\n",
    "print(\"Original Set:\", my_set)\n",
    "print(\"Converted List:\", my_list)"
   ]
  },
  {
   "cell_type": "code",
   "execution_count": 33,
   "id": "c5dc1248-b5fc-4cb9-a612-a1ed5f19766b",
   "metadata": {},
   "outputs": [
    {
     "name": "stdout",
     "output_type": "stream",
     "text": [
      "Original set: {1, 2, 3, 4, 5}\n",
      "Updated set after removing 3 : {1, 2, 4, 5}\n"
     ]
    }
   ],
   "source": [
    "#16. Remove a random element from a set.\n",
    "import random  # Import the random module\n",
    "\n",
    "# Create a set with some elements\n",
    "my_set = {1, 2, 3, 4, 5}\n",
    "\n",
    "# Display the original set\n",
    "print(\"Original set:\", my_set)\n",
    "\n",
    "# Choose a random element from the set using the random.choice() function\n",
    "random_element = random.choice(list(my_set))\n",
    "\n",
    "# Remove the chosen random element from the set using the remove() method\n",
    "my_set.remove(random_element)\n",
    "\n",
    "# Display the updated set after removing the random element\n",
    "print(\"Updated set after removing\", random_element, \":\", my_set)"
   ]
  },
  {
   "cell_type": "code",
   "execution_count": 34,
   "id": "0d800d2c-5a99-4127-ba45-aeaf983e1fbb",
   "metadata": {},
   "outputs": [
    {
     "name": "stdout",
     "output_type": "stream",
     "text": [
      "Original set: {1, 2, 3, 4, 5}\n",
      "Popped element: 1\n",
      "Set after popping: {2, 3, 4, 5}\n"
     ]
    }
   ],
   "source": [
    "#17. Pop an element from a set.\n",
    "# Create a set with some elements\n",
    "my_set = {1, 2, 3, 4, 5}\n",
    "\n",
    "# Print the original set\n",
    "print(\"Original set:\", my_set)\n",
    "\n",
    "# Pop an element from the set using the pop() method\n",
    "popped_element = my_set.pop()\n",
    "\n",
    "# Print the element that was popped\n",
    "print(\"Popped element:\", popped_element)\n",
    "\n",
    "# Print the set after popping an element\n",
    "print(\"Set after popping:\", my_set)"
   ]
  },
  {
   "cell_type": "code",
   "execution_count": 35,
   "id": "35f0d138-9c0b-44cb-9b68-3f46afe904e8",
   "metadata": {},
   "outputs": [
    {
     "name": "stdout",
     "output_type": "stream",
     "text": [
      "The two sets have no elements in common.\n"
     ]
    }
   ],
   "source": [
    "#18. Check if two sets have no elements in common.\n",
    "# Step 1: Define two sets\n",
    "set1 = {1, 2, 3, 4}\n",
    "set2 = {5, 6, 7, 8}\n",
    "\n",
    "# Step 2: Check if the intersection of the two sets is empty\n",
    "# The intersection is the set of elements that are common to both sets\n",
    "common_elements = set1.intersection(set2)\n",
    "\n",
    "# Step 3: Check if the common_elements set is empty\n",
    "if not common_elements:\n",
    "    print(\"The two sets have no elements in common.\")\n",
    "else:\n",
    "    print(\"The two sets have common elements:\", common_elements)"
   ]
  },
  {
   "cell_type": "code",
   "execution_count": 36,
   "id": "4f272a34-3412-49cb-9b51-77c70b50aa70",
   "metadata": {},
   "outputs": [
    {
     "name": "stdout",
     "output_type": "stream",
     "text": [
      "Symmetric Difference: {1, 2, 3, 6, 7, 8}\n"
     ]
    }
   ],
   "source": [
    "#19. Find the symmetric difference between two sets.\n",
    "# Define two sets\n",
    "set1 = {1, 2, 3, 4, 5}\n",
    "set2 = {4, 5, 6, 7, 8}\n",
    "\n",
    "# Calculate the symmetric difference using the ^ operator\n",
    "symmetric_difference = set1 ^ set2\n",
    "\n",
    "# Print the symmetric difference\n",
    "print(\"Symmetric Difference:\", symmetric_difference)"
   ]
  },
  {
   "cell_type": "code",
   "execution_count": 37,
   "id": "985fbcae-d666-4620-b22e-ace052a3707f",
   "metadata": {},
   "outputs": [
    {
     "name": "stdout",
     "output_type": "stream",
     "text": [
      "Set 1: {1, 2, 3}\n",
      "Set 2: {3, 4, 5}\n",
      "Updated Set 1: {1, 2, 3, 4, 5}\n"
     ]
    }
   ],
   "source": [
    "##20. Update a set with elements from another set.\n",
    "# Create the first set\n",
    "set1 = {1, 2, 3}\n",
    "print(\"Set 1:\", set1)\n",
    "\n",
    "# Create the second set\n",
    "set2 = {3, 4, 5}\n",
    "print(\"Set 2:\", set2)\n",
    "\n",
    "# Update set1 with elements from set2\n",
    "set1.update(set2)\n",
    "print(\"Updated Set 1:\", set1)"
   ]
  },
  {
   "cell_type": "code",
   "execution_count": 38,
   "id": "27359480-1f26-4886-b79a-b98200f143c5",
   "metadata": {},
   "outputs": [
    {
     "name": "stdout",
     "output_type": "stream",
     "text": [
      "Set of the first 5 prime numbers: {2, 3, 5, 7, 11}\n"
     ]
    }
   ],
   "source": [
    "#21. Create a set of the first 5 prime numbers.\n",
    "# Function to check if a number is prime\n",
    "def is_prime(num):\n",
    "    if num <= 1:\n",
    "        return False\n",
    "    for i in range(2, int(num ** 0.5) + 1):\n",
    "        if num % i == 0:\n",
    "            return False\n",
    "    return True\n",
    "\n",
    "# Create an empty set to store the prime numbers\n",
    "prime_set = set()\n",
    "\n",
    "# Initialize the number to start checking for primes\n",
    "num = 2\n",
    "\n",
    "# Loop until we have found the first 5 prime numbers\n",
    "while len(prime_set) < 5:\n",
    "    # Check if the current number is prime using the is_prime function\n",
    "    if is_prime(num):\n",
    "        # If the number is prime, add it to the prime_set\n",
    "        prime_set.add(num)\n",
    "\n",
    "    # Move on to the next number for the next iteration\n",
    "    num += 1\n",
    "\n",
    "# Print the set of prime numbers\n",
    "print(\"Set of the first 5 prime numbers:\", prime_set)"
   ]
  },
  {
   "cell_type": "code",
   "execution_count": 39,
   "id": "4f92bec8-397b-44e8-835b-ac1bc12efe8a",
   "metadata": {},
   "outputs": [
    {
     "name": "stdout",
     "output_type": "stream",
     "text": [
      "The sets are identical.\n"
     ]
    }
   ],
   "source": [
    "#22. Check if two sets are identical.\n",
    "# Step 1: Define two sets\n",
    "set1 = {1, 2, 3, 4, 5}\n",
    "set2 = {3, 1, 5, 2, 4}  # The order of elements doesn't matter in sets\n",
    "\n",
    "# Step 2: Check if the sets are identical using the `==` operator\n",
    "# Sets are unordered collections, so the order of elements doesn't matter.\n",
    "# The `==` operator compares the content of the sets.\n",
    "if set1 == set2:\n",
    "    print(\"The sets are identical.\")\n",
    "else:\n",
    "    print(\"The sets are not identical.\")"
   ]
  },
  {
   "cell_type": "code",
   "execution_count": 40,
   "id": "4bf11d76-368f-4c96-9ef9-6298fc38837f",
   "metadata": {},
   "outputs": [
    {
     "name": "stdout",
     "output_type": "stream",
     "text": [
      "Frozen Set: frozenset({1, 2, 3, 4, 5})\n"
     ]
    }
   ],
   "source": [
    "#23. Create a frozen set\n",
    "# Step 2: Define a list of elements that you want to include in the frozen set\n",
    "elements = [1, 2, 3, 4, 5]\n",
    "\n",
    "# Step 3: Create a frozen set using the 'frozenset' constructor and passing the list of elements\n",
    "my_frozen_set = frozenset(elements)\n",
    "\n",
    "# Step 4: Print the frozen set\n",
    "print(\"Frozen Set:\", my_frozen_set)"
   ]
  },
  {
   "cell_type": "code",
   "execution_count": 41,
   "id": "87dc1c43-dc47-4646-a615-2269f1eee194",
   "metadata": {},
   "outputs": [
    {
     "name": "stdout",
     "output_type": "stream",
     "text": [
      "Are the sets disjoint? True\n"
     ]
    }
   ],
   "source": [
    "#24. Check if a set is disjoint with another set.\n",
    "# Step 1: Define the two sets you want to check for disjointness\n",
    "set1 = {1, 2, 3, 4}\n",
    "set2 = {5, 6, 7, 8}\n",
    "\n",
    "# Step 2: Use the `isdisjoint()` method to check if the sets are disjoint\n",
    "# The `isdisjoint()` method returns True if the sets have no common elements,\n",
    "# and False if they have at least one common element.\n",
    "disjoint_status = set1.isdisjoint(set2)\n",
    "\n",
    "# Step 3: Print the result\n",
    "print(\"Are the sets disjoint?\", disjoint_status)"
   ]
  },
  {
   "cell_type": "code",
   "execution_count": 42,
   "id": "7d45a750-c59c-4c32-bb05-6deb441e353b",
   "metadata": {},
   "outputs": [
    {
     "name": "stdout",
     "output_type": "stream",
     "text": [
      "{1, 4, 9, 16, 25}\n"
     ]
    }
   ],
   "source": [
    "#25. Create a set of squares of numbers from 1 to 5.\n",
    "# Step 1: Create an empty set to store the squares of numbers\n",
    "squares_set = set()\n",
    "\n",
    "# Step 2: Use a loop to iterate through numbers from 1 to 5\n",
    "for num in range(1, 6):\n",
    "    # Step 3: Calculate the square of the current number\n",
    "    square = num ** 2\n",
    "\n",
    "    # Step 4: Add the square to the set\n",
    "    squares_set.add(square)\n",
    "\n",
    "# Step 5: Print the set of squares\n",
    "print(squares_set)"
   ]
  },
  {
   "cell_type": "code",
   "execution_count": 43,
   "id": "dada07df-ba53-4c54-941f-639a67f4b24e",
   "metadata": {},
   "outputs": [
    {
     "name": "stdout",
     "output_type": "stream",
     "text": [
      "Original Set: {1, 2, 3, 4, 5}\n",
      "Even Numbers Set: {2, 4}\n"
     ]
    }
   ],
   "source": [
    "#26. Filter out all even numbers from a set.\n",
    "# Step 1: Create a set with integers from 1 to 5\n",
    "original_set = {1, 2, 3, 4, 5}\n",
    "\n",
    "# Step 2: Initialize an empty set to store the filtered even numbers\n",
    "even_numbers_set = set()\n",
    "\n",
    "# Step 3: Iterate through each element in the original set\n",
    "for num in original_set:\n",
    "    # Step 4: Check if the current number is even (divisible by 2)\n",
    "    if num % 2 == 0:\n",
    "        # Step 5: If even, add it to the even_numbers_set\n",
    "        even_numbers_set.add(num)\n",
    "\n",
    "# Step 6: Print the original set and the set containing even numbers\n",
    "print(\"Original Set:\", original_set)\n",
    "print(\"Even Numbers Set:\", even_numbers_set)"
   ]
  },
  {
   "cell_type": "code",
   "execution_count": 44,
   "id": "426e75ee-162a-483a-8b78-b8a6d1614a06",
   "metadata": {},
   "outputs": [
    {
     "name": "stdout",
     "output_type": "stream",
     "text": [
      "Original Set: {1, 2, 3, 4, 5}\n",
      "Multiplied Set: {2, 4, 6, 8, 10}\n"
     ]
    }
   ],
   "source": [
    "#27. Multiply all elements in a set by 2.\n",
    "# Create a set with integers from 1 to 5\n",
    "original_set = {1, 2, 3, 4, 5}\n",
    "\n",
    "# Initialize an empty set to store the multiplied elements\n",
    "multiplied_set = set()\n",
    "\n",
    "# Loop through each element in the original set\n",
    "for num in original_set:\n",
    "    # Multiply the current element by 2\n",
    "    multiplied_num = num * 2\n",
    "\n",
    "    # Add the multiplied element to the multiplied_set\n",
    "    multiplied_set.add(multiplied_num)\n",
    "\n",
    "# The original_set remains unchanged\n",
    "print(\"Original Set:\", original_set)\n",
    "\n",
    "# Display the set with elements multiplied by 2\n",
    "print(\"Multiplied Set:\", multiplied_set)"
   ]
  },
  {
   "cell_type": "code",
   "execution_count": 45,
   "id": "f9983f8e-195c-4531-8f3c-a6d1f0a2a638",
   "metadata": {},
   "outputs": [
    {
     "name": "stdout",
     "output_type": "stream",
     "text": [
      "Generated set of random numbers: {32, 98, 4, 75, 95}\n"
     ]
    }
   ],
   "source": [
    "#28. Create a set of random numbers.\n",
    "# Step 1: Import the `random` module to generate random numbers\n",
    "import random\n",
    "\n",
    "# Step 2: Define the number of random numbers you want in the set\n",
    "num_random_numbers = 5\n",
    "\n",
    "# Step 3: Initialize an empty set to store the random numbers\n",
    "random_number_set = set()\n",
    "\n",
    "# Step 4: Use a loop to generate random numbers and add them to the set\n",
    "for _ in range(num_random_numbers):\n",
    "    # Generate a random integer using the `randint` function from the `random` module\n",
    "    random_num = random.randint(1, 100)  # Generate a random number between 1 and 100\n",
    "    # Add the random number to the set\n",
    "    random_number_set.add(random_num)\n",
    "\n",
    "# Step 5: Print the generated set of random numbers\n",
    "print(\"Generated set of random numbers:\", random_number_set)"
   ]
  },
  {
   "cell_type": "code",
   "execution_count": 47,
   "id": "9af34b91-71e3-441e-b4a8-093c09352d28",
   "metadata": {},
   "outputs": [
    {
     "name": "stdout",
     "output_type": "stream",
     "text": [
      "The set is empty.\n"
     ]
    }
   ],
   "source": [
    "#29. Check if a set is empty.\n",
    "# Step 1: Create a set (you can replace this with your own set)\n",
    "my_set = set()\n",
    "\n",
    "# Step 2: Check if the set is empty using the 'if' statement\n",
    "if not my_set:\n",
    "    print(\"The set is empty.\")\n",
    "else:\n",
    "    print(\"The set is not empty.\")"
   ]
  },
  {
   "cell_type": "code",
   "execution_count": 48,
   "id": "54a8475c-d256-4b53-a2f7-fbfcfaedb1e3",
   "metadata": {},
   "outputs": [
    {
     "name": "stdout",
     "output_type": "stream",
     "text": [
      "Nested Set: {frozenset({1, 2, 3, 4, 5}), frozenset({6, 7, 8, 9, 10})}\n"
     ]
    }
   ],
   "source": [
    "#30. Create a nested set (hint: use frozenset).\n",
    "# Step 1: Create the inner sets\n",
    "set1 = {1, 2, 3, 4, 5}\n",
    "set2 = {6, 7, 8, 9, 10}\n",
    "\n",
    "# Step 2: Create frozensets from the inner sets\n",
    "frozen_set1 = frozenset(set1)\n",
    "frozen_set2 = frozenset(set2)\n",
    "\n",
    "# Step 3: Create the nested set using the frozensets\n",
    "nested_set = {frozen_set1, frozen_set2}\n",
    "\n",
    "# Print the nested set\n",
    "print(\"Nested Set:\", nested_set)"
   ]
  },
  {
   "cell_type": "code",
   "execution_count": 49,
   "id": "e6b8e2b4-d704-43b2-aba2-7aafd30cfdad",
   "metadata": {},
   "outputs": [
    {
     "name": "stdout",
     "output_type": "stream",
     "text": [
      "Initial set: {1, 2, 3, 4, 5}\n",
      "Set after removing 3 : {1, 2, 4, 5}\n"
     ]
    }
   ],
   "source": [
    "#31. Remove an element from a set using the discard method.\n",
    "# Create a set with some elements\n",
    "my_set = {1, 2, 3, 4, 5}\n",
    "\n",
    "# Display the initial set\n",
    "print(\"Initial set:\", my_set)\n",
    "\n",
    "# Define the element to be removed\n",
    "element_to_remove = 3\n",
    "\n",
    "# Use the discard() method to remove the element from the set\n",
    "# If the element is not present in the set, discard() won't raise an error\n",
    "my_set.discard(element_to_remove)\n",
    "\n",
    "# Display the set after removing the element\n",
    "print(\"Set after removing\", element_to_remove, \":\", my_set)"
   ]
  },
  {
   "cell_type": "code",
   "execution_count": 50,
   "id": "e449d56c-860e-41a7-9357-7364c14bb1dd",
   "metadata": {},
   "outputs": [
    {
     "name": "stdout",
     "output_type": "stream",
     "text": [
      "Set 1: {1, 2, 3, 4, 5}\n",
      "Set 2: {4, 5, 6, 7, 8}\n",
      "Is set1 a subset of set2? False\n",
      "Is set2 a subset of set1? False\n",
      "Intersection: {4, 5}\n",
      "Union: {1, 2, 3, 4, 5, 6, 7, 8}\n",
      "Elements in set1 but not in set2: {1, 2, 3}\n",
      "Elements in set2 but not in set1: {8, 6, 7}\n"
     ]
    }
   ],
   "source": [
    "#32. Compare two sets.\n",
    "# Step 1: Define two sets\n",
    "set1 = {1, 2, 3, 4, 5}\n",
    "set2 = {4, 5, 6, 7, 8}\n",
    "\n",
    "# Step 2: Use set operations to compare the sets\n",
    "# Check if set1 is a subset of set2\n",
    "is_subset = set1.issubset(set2)\n",
    "\n",
    "# Check if set2 is a subset of set1\n",
    "is_superset = set1.issuperset(set2)\n",
    "\n",
    "# Find the intersection of the sets\n",
    "intersection = set1.intersection(set2)\n",
    "\n",
    "# Find the union of the sets\n",
    "union = set1.union(set2)\n",
    "\n",
    "# Find the elements that are in set1 but not in set2\n",
    "difference1 = set1.difference(set2)\n",
    "\n",
    "# Find the elements that are in set2 but not in set1\n",
    "difference2 = set2.difference(set1)\n",
    "\n",
    "# Step 3: Print the results\n",
    "print(\"Set 1:\", set1)\n",
    "print(\"Set 2:\", set2)\n",
    "print(\"Is set1 a subset of set2?\", is_subset)\n",
    "print(\"Is set2 a subset of set1?\", is_superset)\n",
    "print(\"Intersection:\", intersection)\n",
    "print(\"Union:\", union)\n",
    "print(\"Elements in set1 but not in set2:\", difference1)\n",
    "print(\"Elements in set2 but not in set1:\", difference2)"
   ]
  },
  {
   "cell_type": "code",
   "execution_count": 51,
   "id": "6431571f-6321-4cfd-b6ba-96fedeca7d5d",
   "metadata": {},
   "outputs": [
    {
     "name": "stdout",
     "output_type": "stream",
     "text": [
      "{'h', 'e', 'o', 'l'}\n"
     ]
    }
   ],
   "source": [
    "#33. Create a set from a string.\n",
    "# Step 1: Define the input string\n",
    "input_string = \"hello\"\n",
    "\n",
    "# Step 2: Use the set() constructor to create a set from the characters in the string\n",
    "char_set = set(input_string)\n",
    "\n",
    "# Step 3: Print the resulting set\n",
    "print(char_set)"
   ]
  },
  {
   "cell_type": "code",
   "execution_count": 52,
   "id": "6183f181-965a-4ac7-82ca-58c9abd33ee4",
   "metadata": {},
   "outputs": [
    {
     "name": "stdout",
     "output_type": "stream",
     "text": [
      "Original String Set: {'456', '123', '789'}\n",
      "Converted Integer Set: {456, 123, 789}\n"
     ]
    }
   ],
   "source": [
    "#34. Convert a set of strings to a set of integers.\n",
    "# Step 1: Create a set of strings\n",
    "string_set = {\"123\", \"456\", \"789\"}\n",
    "\n",
    "# Step 2: Initialize an empty set to store integers\n",
    "integer_set = set()\n",
    "\n",
    "# Step 3: Iterate through each string in the string set\n",
    "for string in string_set:\n",
    "    # Step 4: Convert the string to an integer using the int() function\n",
    "    integer_value = int(string)\n",
    "\n",
    "    # Step 5: Add the integer to the integer set\n",
    "    integer_set.add(integer_value)\n",
    "\n",
    "# Step 6: Print the original string set and the converted integer set\n",
    "print(\"Original String Set:\", string_set)\n",
    "print(\"Converted Integer Set:\", integer_set)"
   ]
  },
  {
   "cell_type": "code",
   "execution_count": 53,
   "id": "eecdd7f2-699c-49d7-8d0b-5947b3df63f3",
   "metadata": {},
   "outputs": [
    {
     "name": "stdout",
     "output_type": "stream",
     "text": [
      "Original integers_set: {1, 2, 3, 4, 5}\n",
      "Converted strings_set: {'5', '3', '2', '4', '1'}\n"
     ]
    }
   ],
   "source": [
    "#35. Convert a set of integers to a set of strings.\n",
    "# Step 1: Create a set of integers\n",
    "integers_set = {1, 2, 3, 4, 5}\n",
    "\n",
    "# Step 2: Initialize an empty set to store the strings\n",
    "strings_set = set()\n",
    "\n",
    "# Step 3: Iterate through each integer in the integers_set\n",
    "for num in integers_set:\n",
    "    # Step 4: Convert the integer to a string using the str() function\n",
    "    num_str = str(num)\n",
    "\n",
    "    # Step 5: Add the string representation to the strings_set\n",
    "    strings_set.add(num_str)\n",
    "\n",
    "# Step 6: Print the original integers_set and the converted strings_set\n",
    "print(\"Original integers_set:\", integers_set)\n",
    "print(\"Converted strings_set:\", strings_set)"
   ]
  },
  {
   "cell_type": "code",
   "execution_count": 54,
   "id": "3117eee0-5159-440a-a58e-c2103d2d6e38",
   "metadata": {},
   "outputs": [
    {
     "name": "stdout",
     "output_type": "stream",
     "text": [
      "{1, 2, 3, 4, 5}\n"
     ]
    }
   ],
   "source": [
    "#36. Create a set from a tuple.\n",
    "# Given tuple\n",
    "input_tuple = (1, 2, 3, 2, 4, 5, 1)\n",
    "\n",
    "# Step 1: Convert the tuple to a set\n",
    "output_set = set(input_tuple)\n",
    "# At this point, the set() function is used to convert the elements of the tuple into a set.\n",
    "# Since sets only contain unique elements, duplicate values are automatically removed.\n",
    "\n",
    "# Step 2: Print the resulting set\n",
    "print(output_set)\n",
    "# The set is now printed, and it will only contain the unique elements from the original tuple."
   ]
  },
  {
   "cell_type": "code",
   "execution_count": 55,
   "id": "3f888bf3-aefd-49a9-95fe-3064564b5073",
   "metadata": {},
   "outputs": [
    {
     "name": "stdout",
     "output_type": "stream",
     "text": [
      "Original set: {1, 2, 3, 4, 5}\n",
      "Converted tuple: (1, 2, 3, 4, 5)\n"
     ]
    }
   ],
   "source": [
    "#37. Convert a set to a tuple.\n",
    "# Step 1: Create a set\n",
    "input_set = {1, 2, 3, 4, 5}\n",
    "\n",
    "# Step 2: Convert the set to a tuple\n",
    "output_tuple = tuple(input_set)\n",
    "\n",
    "# Step 3: Print the original set and the converted tuple\n",
    "print(\"Original set:\", input_set)\n",
    "print(\"Converted tuple:\", output_tuple)"
   ]
  },
  {
   "cell_type": "code",
   "execution_count": 56,
   "id": "c769953b-76ae-45a4-9a54-ddf52b66fd5c",
   "metadata": {},
   "outputs": [
    {
     "name": "stdout",
     "output_type": "stream",
     "text": [
      "Maximum value: 22\n"
     ]
    }
   ],
   "source": [
    "#38. Find the maximum value in a set.\n",
    "# Define a set with some values\n",
    "my_set = {15, 7, 22, 13, 8}\n",
    "\n",
    "# Initialize a variable to store the maximum value\n",
    "max_value = None\n",
    "\n",
    "# Iterate through each element in the set\n",
    "for num in my_set:\n",
    "    # Check if max_value is None (first iteration) or if the current number is greater than max_value\n",
    "    if max_value is None or num > max_value:\n",
    "        max_value = num  # Update max_value with the current number if it's greater\n",
    "\n",
    "# Print the maximum value\n",
    "print(\"Maximum value:\", max_value)"
   ]
  },
  {
   "cell_type": "code",
   "execution_count": 60,
   "id": "68ea7f02-40ea-4257-b2eb-c3111c967fb8",
   "metadata": {},
   "outputs": [
    {
     "name": "stdout",
     "output_type": "stream",
     "text": [
      "The minimum value in the set is: 4\n"
     ]
    }
   ],
   "source": [
    "#39. Find the minimum value in a set.\n",
    "# Create a sample set of numbers\n",
    "number_set = {15, 8, 23, 4, 42, 11}\n",
    "\n",
    "# Initialize a variable to store the minimum value\n",
    "min_value = None\n",
    "\n",
    "# Iterate through each element in the set\n",
    "for num in number_set:\n",
    "    # Check if min_value is None (first iteration) or if num is smaller than the current min_value\n",
    "    if min_value is None or num < min_value:\n",
    "        # Update min_value to the current num since it's smaller\n",
    "        min_value = num\n",
    "\n",
    "# Print the minimum value found in the set\n",
    "print(\"The minimum value in the set is:\", min_value)"
   ]
  },
  {
   "cell_type": "code",
   "execution_count": 61,
   "id": "f0999f9a-2702-404c-91a4-df93fe71e879",
   "metadata": {},
   "outputs": [
    {
     "name": "stdout",
     "output_type": "stream",
     "text": [
      "Enter elements for the set (type 'done' to finish):\n"
     ]
    },
    {
     "name": "stdin",
     "output_type": "stream",
     "text": [
      ">  hi,hello\n",
      ">  done\n"
     ]
    },
    {
     "name": "stdout",
     "output_type": "stream",
     "text": [
      "Final set: {'hi,hello'}\n"
     ]
    }
   ],
   "source": [
    "#40. Create a set from user input.\n",
    "# Step 1: Initialize an empty set\n",
    "user_set = set()\n",
    "\n",
    "# Step 2: Get input from the user\n",
    "print(\"Enter elements for the set (type 'done' to finish):\")\n",
    "while True:\n",
    "    user_input = input(\"> \")  # Get input from the user\n",
    "\n",
    "    if user_input.lower() == 'done':\n",
    "        break  # Exit the loop if the user enters 'done'\n",
    "\n",
    "    # Step 3: Add the user input to the set\n",
    "    user_set.add(user_input)\n",
    "\n",
    "# Step 4: Display the final set created from user input\n",
    "print(\"Final set:\", user_set)"
   ]
  },
  {
   "cell_type": "code",
   "execution_count": 62,
   "id": "7b52a992-6426-4b17-af7b-692b7bf574ee",
   "metadata": {},
   "outputs": [
    {
     "name": "stdout",
     "output_type": "stream",
     "text": [
      "The intersection of the two sets is not empty.\n"
     ]
    }
   ],
   "source": [
    "#41. Check if the intersection of two sets is empty.\n",
    "# Step 1: Define two sets\n",
    "set1 = {1, 2, 3, 4, 5}\n",
    "set2 = {4, 5, 6, 7, 8}\n",
    "\n",
    "# Step 2: Find the intersection of the two sets using the `intersection()` method\n",
    "intersection_result = set1.intersection(set2)\n",
    "\n",
    "# Step 3: Check if the intersection result is empty\n",
    "if not intersection_result:\n",
    "    print(\"The intersection of the two sets is empty.\")\n",
    "else:\n",
    "    print(\"The intersection of the two sets is not empty.\")"
   ]
  },
  {
   "cell_type": "code",
   "execution_count": 63,
   "id": "0a38fcbf-c30b-4316-882d-8d3713d61e05",
   "metadata": {},
   "outputs": [
    {
     "name": "stdout",
     "output_type": "stream",
     "text": [
      "Set of the first 5 Fibonacci numbers: {0, 1, 2, 3, 5}\n"
     ]
    }
   ],
   "source": [
    "#42. Create a set of the first 5 Fibonacci numbers.\n",
    "# Create a set to store the first 5 Fibonacci numbers\n",
    "fibonacci_set = set()\n",
    "\n",
    "# Initialize the first two Fibonacci numbers\n",
    "a, b = 0, 1\n",
    "\n",
    "# Loop to generate the first 5 Fibonacci numbers\n",
    "for _ in range(6):\n",
    "    # Add the current Fibonacci number to the set\n",
    "    fibonacci_set.add(a)\n",
    "\n",
    "    # Calculate the next Fibonacci number\n",
    "    a, b = b, a + b\n",
    "\n",
    "# Print the set of Fibonacci numbers\n",
    "print(\"Set of the first 5 Fibonacci numbers:\", fibonacci_set)"
   ]
  },
  {
   "cell_type": "code",
   "execution_count": 64,
   "id": "d7d04cfb-e12c-42bf-bec5-659846e3d765",
   "metadata": {},
   "outputs": [
    {
     "name": "stdout",
     "output_type": "stream",
     "text": [
      "Original List: [2, 4, 6, 8, 4, 10, 6, 12, 14, 8]\n",
      "List with Duplicates Removed: [2, 4, 6, 8, 10, 12, 14]\n"
     ]
    }
   ],
   "source": [
    "#43. Remove duplicates from a list using sets.\n",
    "# Step 1: Define a list with duplicates\n",
    "original_list = [2, 4, 6, 8, 4, 10, 6, 12, 14, 8]\n",
    "\n",
    "# Step 2: Convert the list to a set\n",
    "unique_set = set(original_list)\n",
    "# Now, 'unique_set' contains only unique elements from 'original_list'\n",
    "\n",
    "# Step 3: Convert the set back to a list\n",
    "unique_list = list(unique_set)\n",
    "# Now, 'unique_list' is a list containing only unique elements\n",
    "\n",
    "# Step 4: Print the original list and the list with duplicates removed\n",
    "print(\"Original List:\", original_list)\n",
    "print(\"List with Duplicates Removed:\", unique_list)"
   ]
  },
  {
   "cell_type": "code",
   "execution_count": 65,
   "id": "dc04e6f9-6869-438d-815e-d5ff2f581241",
   "metadata": {},
   "outputs": [
    {
     "name": "stdout",
     "output_type": "stream",
     "text": [
      "The sets have the same elements.\n"
     ]
    }
   ],
   "source": [
    "#44. Check if two sets have the same elements, regardless of their count.\n",
    "def have_same_elements(set1, set2):\n",
    "    # Convert the sets to lists and sort them\n",
    "    sorted_list1 = sorted(list(set1))\n",
    "    sorted_list2 = sorted(list(set2))\n",
    "\n",
    "    # Compare the sorted lists to check if they are equal\n",
    "    return sorted_list1 == sorted_list2\n",
    "\n",
    "# Example sets\n",
    "set1 = {1, 2, 3, 2, 1}\n",
    "set2 = {3, 1, 2}\n",
    "\n",
    "# Check if the sets have the same elements\n",
    "result = have_same_elements(set1, set2)\n",
    "\n",
    "# Print the result\n",
    "if result:\n",
    "    print(\"The sets have the same elements.\")\n",
    "else:\n",
    "    print(\"The sets do not have the same elements.\")"
   ]
  },
  {
   "cell_type": "code",
   "execution_count": 66,
   "id": "346f8244-e52e-45ba-ad3a-f730c6d26b72",
   "metadata": {},
   "outputs": [
    {
     "name": "stdout",
     "output_type": "stream",
     "text": [
      "{1, 2, 4, 8, 16}\n"
     ]
    }
   ],
   "source": [
    "#45. Create a set of the first n powers of 2\n",
    "def generate_powers_of_2(n):\n",
    "    # Initialize an empty set to store the powers of 2\n",
    "    powers_of_2 = set()\n",
    "\n",
    "    # Loop from 0 to n-1\n",
    "    for i in range(n):\n",
    "        # Calculate the current power of 2 using the exponentiation operator **\n",
    "        power = 2 ** i\n",
    "\n",
    "        # Add the current power of 2 to the set\n",
    "        powers_of_2.add(power)\n",
    "\n",
    "    # Return the set of powers of 2\n",
    "    return powers_of_2\n",
    "\n",
    "# Define the value of n\n",
    "n = 5\n",
    "\n",
    "# Call the function to generate the set of powers of 2\n",
    "powers_set = generate_powers_of_2(n)\n",
    "\n",
    "# Print the resulting set\n",
    "print(powers_set)"
   ]
  },
  {
   "cell_type": "code",
   "execution_count": 67,
   "id": "ee169439-f399-4073-a9f3-e65eac437d4f",
   "metadata": {},
   "outputs": [
    {
     "name": "stdout",
     "output_type": "stream",
     "text": [
      "Common elements: [7, 9, 12]\n"
     ]
    }
   ],
   "source": [
    "#46. Find the common elements between a set and a list.\n",
    "# Step 1: Define a set and a list\n",
    "my_set = {3, 7, 9, 12, 15}\n",
    "my_list = [7, 12, 5, 9]\n",
    "\n",
    "# Step 2: Convert the list to a set for efficient comparison\n",
    "list_to_set = set(my_list)\n",
    "\n",
    "# Step 3: Initialize an empty list to store common elements\n",
    "common_elements = []\n",
    "\n",
    "# Step 4: Iterate through the elements in the set\n",
    "for element in my_set:\n",
    "    # Step 5: Check if the element is present in the converted set (list_to_set)\n",
    "    if element in list_to_set:\n",
    "        # Step 6: If the element is present in both the set and the list, add it to the common_elements list\n",
    "        common_elements.append(element)\n",
    "\n",
    "# Step 7: Print the common elements\n",
    "print(\"Common elements:\", common_elements)"
   ]
  },
  {
   "cell_type": "code",
   "execution_count": 68,
   "id": "0a9824d0-e4c3-420d-b7f8-7fcf0f54907b",
   "metadata": {},
   "outputs": [
    {
     "name": "stdout",
     "output_type": "stream",
     "text": [
      "Common elements: [7, 9, 12]\n"
     ]
    }
   ],
   "source": [
    "#46. Find the common elements between a set and a list.\n",
    "# Step 1: Define a set and a list\n",
    "my_set = {3, 7, 9, 12, 15}\n",
    "my_list = [7, 12, 5, 9]\n",
    "\n",
    "# Step 2: Convert the list to a set for efficient comparison\n",
    "list_to_set = set(my_list)\n",
    "\n",
    "# Step 3: Initialize an empty list to store common elements\n",
    "common_elements = []\n",
    "\n",
    "# Step 4: Iterate through the elements in the set\n",
    "for element in my_set:\n",
    "    # Step 5: Check if the element is present in the converted set (list_to_set)\n",
    "    if element in list_to_set:\n",
    "        # Step 6: If the element is present in both the set and the list, add it to the common_elements list\n",
    "        common_elements.append(element)\n",
    "\n",
    "# Step 7: Print the common elements\n",
    "print(\"Common elements:\", common_elements)"
   ]
  },
  {
   "cell_type": "code",
   "execution_count": 71,
   "id": "adef9682-dadc-4b05-bc05-3f5b84c6d4bf",
   "metadata": {},
   "outputs": [
    {
     "name": "stdin",
     "output_type": "stream",
     "text": [
      "Enter the value of n:  10\n"
     ]
    },
    {
     "name": "stdout",
     "output_type": "stream",
     "text": [
      "The set of the first 10 triangular numbers is: {1, 3, 36, 6, 10, 45, 15, 21, 55, 28}\n"
     ]
    }
   ],
   "source": [
    "#47. Create a set of the first n triangular numbers.:\n",
    "def generate_triangular_numbers(n):\n",
    "    triangular_numbers = set()  # Create an empty set to store the triangular numbers\n",
    "    for i in range(1, n + 1):\n",
    "        triangular_number = i * (i + 1) // 2  # Calculate the ith triangular number using the formula\n",
    "        triangular_numbers.add(triangular_number)  # Add the calculated triangular number to the set\n",
    "    return triangular_numbers\n",
    "\n",
    "# Input the value of 'n'\n",
    "n = int(input(\"Enter the value of n: \"))\n",
    "\n",
    "# Call the function to generate the set of first 'n' triangular numbers\n",
    "triangular_set = generate_triangular_numbers(n)\n",
    "\n",
    "# Display the set of triangular numbers\n",
    "print(f\"The set of the first {n} triangular numbers is:\", triangular_set)"
   ]
  },
  {
   "cell_type": "code",
   "execution_count": 72,
   "id": "06bd7e72-050b-4008-9add-8fa1c849ae29",
   "metadata": {},
   "outputs": [
    {
     "name": "stdout",
     "output_type": "stream",
     "text": [
      "set2 is a subset of set1\n"
     ]
    }
   ],
   "source": [
    "#48. Check if a set contains another set as a subset.\n",
    "# Define two sets\n",
    "set1 = {1, 2, 3, 4, 5}\n",
    "set2 = {3, 4}\n",
    "\n",
    "# Check if set2 is a subset of set1\n",
    "is_subset = set2.issubset(set1)\n",
    "\n",
    "# Print the result\n",
    "if is_subset:\n",
    "    print(\"set2 is a subset of set1\")\n",
    "else:\n",
    "    print(\"set2 is not a subset of set1\")"
   ]
  },
  {
   "cell_type": "code",
   "execution_count": 73,
   "id": "b45821e4-3e7b-4473-abda-ea7d3a226b7c",
   "metadata": {},
   "outputs": [
    {
     "name": "stdout",
     "output_type": "stream",
     "text": [
      "{0, 1}\n"
     ]
    }
   ],
   "source": [
    "#49. Create a set of alternating 1s and 0s of length n.\n",
    "def create_alternating_set(n):\n",
    "    # Initialize an empty set to store the alternating sequence.\n",
    "    alternating_set = set()\n",
    "\n",
    "    # Loop to generate alternating 1s and 0s.\n",
    "    for i in range(n):\n",
    "        # Alternate between adding 1 and 0 to the set based on whether i is even or odd.\n",
    "        if i % 2 == 0:\n",
    "            alternating_set.add(1)  # Add 1 if i is even.\n",
    "        else:\n",
    "            alternating_set.add(0)  # Add 0 if i is odd.\n",
    "\n",
    "    return alternating_set\n",
    "\n",
    "# Define the desired length of the alternating set.\n",
    "length_n = 10\n",
    "\n",
    "# Call the function to create the alternating set of length 'length_n'.\n",
    "result = create_alternating_set(length_n)\n",
    "\n",
    "# Print the resulting set.\n",
    "print(result)"
   ]
  },
  {
   "cell_type": "code",
   "execution_count": 74,
   "id": "2a447c91-bd14-402d-bdb9-8e11a12a795f",
   "metadata": {},
   "outputs": [
    {
     "name": "stdout",
     "output_type": "stream",
     "text": [
      "Merged Set: {1, 2, 3, 4, 5, 6, 7}\n"
     ]
    }
   ],
   "source": [
    "#50. Merge multiple sets into one.\n",
    "# Step 1: Create multiple sets\n",
    "set1 = {1, 2, 3}\n",
    "set2 = {3, 4, 5}\n",
    "set3 = {5, 6, 7}\n",
    "\n",
    "# Step 2: Use the union() method to merge sets\n",
    "merged_set = set1.union(set2, set3)\n",
    "\n",
    "# Alternatively, you can use the | operator\n",
    "# merged_set = set1 | set2 | set3\n",
    "\n",
    "# Step 3: Print the merged set\n",
    "print(\"Merged Set:\", merged_set)"
   ]
  },
  {
   "cell_type": "code",
   "execution_count": null,
   "id": "94212539-103a-470c-ae57-196732166071",
   "metadata": {},
   "outputs": [],
   "source": []
  }
 ],
 "metadata": {
  "kernelspec": {
   "display_name": "Python 3 (ipykernel)",
   "language": "python",
   "name": "python3"
  },
  "language_info": {
   "codemirror_mode": {
    "name": "ipython",
    "version": 3
   },
   "file_extension": ".py",
   "mimetype": "text/x-python",
   "name": "python",
   "nbconvert_exporter": "python",
   "pygments_lexer": "ipython3",
   "version": "3.10.8"
  }
 },
 "nbformat": 4,
 "nbformat_minor": 5
}
